{
 "cells": [
  {
   "cell_type": "raw",
   "metadata": {},
   "source": [
    "\n",
    "Data 601# Final Project:\n",
    "\n",
    "Proposal\n",
    "\n",
    "For the final project, I would like to look at two particular health diseases, heart disease, and stroke.\n",
    "I will be using two datasets, one on heart disease on adults 35+ and one on stroke on adults 35+.\n",
    "\n",
    "Definitions:\n",
    "*A heart attack occurs when blood flow to a part of the heart is blocked, usually by a blood clot. \n",
    "Without oxygenated blood, the heart muscle begins to die.\n",
    "\n",
    "* A stroke is a brain attack, cutting off vital blood flow and oxygen to the brain. \n",
    "A stroke happens when a blood vessel feeding the brain gets clogged or bursts.\n",
    "\n",
    "Heart disease: URL: https://data.cdc.gov/api/views/mfvi-hkb9/rows.csv?accessType=DOWNLOAD\n",
    "Data size: 17,197KB  (Rows: 59.1K ; Columns: 21)\n",
    "\n",
    "Stroke: URL: https://data.cdc.gov/api/views/v246-z5tb/rows.csv?accessType=DOWNLOAD\n",
    "Data size: 16,825KB   (Rows: 59.1K ; Columns: 21)\n",
    "hear\n",
    "-Data are free to download?  Yes\n",
    "\n",
    "-Data are legal to access?   Yes\n",
    "\n",
    "-Public: Yes\n",
    "These datasets are intended for public access and use.\n",
    "\n",
    "-Project proposal relevant to Data 601 objectives:\n",
    "  Yes, the project proposal is relevant for Data 601. With this data set, I will be doing characterization,  \n",
    "  I will be able to transform data into useful information, create visualization by producing graphs to show \n",
    " the mortality trends for men and women, for each of the two diseases.\n",
    "\n",
    "-Questions to be investigated\n",
    "\n",
    "  * Does stroke has more probability to happen than the heart disease or vice-versa?\n",
    "  * Do some states have a particularly high rate of heart disease or stroke than others? \n",
    "  * Does ethnicity impact the probability to have each one of the diseases?\n",
    "\n",
    "Hypothesis#1: \n",
    "Men are 2x more likely to have a heart attack than women.\n",
    "\n",
    "Hypothesis#2:\n",
    "Women are more likely to have a stroke than men, around 40/30.\n",
    "\n",
    "Hypothesis#3:\n",
    "Blacks are 10%-15% more likely to have a heart attack than other ethnicities.\n"
   ]
  },
  {
   "cell_type": "markdown",
   "metadata": {},
   "source": [
    "### Hypotheses Conclusions:"
   ]
  },
  {
   "cell_type": "markdown",
   "metadata": {},
   "source": [
    "#### Hypothesis#1: Not verified\n",
    "#### Hypothesis#2: Not verified\n",
    "#### Hypothesis#3: Not verified\n",
    "\n"
   ]
  },
  {
   "cell_type": "raw",
   "metadata": {},
   "source": [
    "The output of hypothesis#1 is in contradiction with many studies. It can be that 2016 was a particular year.  \n",
    "\n",
    "From an article of Havard healh department, we can read that \" Middle-aged men have more heart attacks than women in the same age group. \" and our dataset is from adult 35+ years\n",
    "\n",
    "https://www.health.harvard.edu/heart-health/the-heart-attack-gender-gap"
   ]
  },
  {
   "cell_type": "code",
   "execution_count": 1,
   "metadata": {},
   "outputs": [
    {
     "name": "stdout",
     "output_type": "stream",
     "text": [
      "pandas 0.24.2\n"
     ]
    }
   ],
   "source": [
    "import pandas\n",
    "print('pandas',pandas.__version__)\n",
    "import numpy as np\n",
    "import pandas as pd\n",
    "import csv\n",
    "import time\n",
    "import datetime\n",
    "import re\n",
    "import math\n",
    "import matplotlib.pyplot as plt\n",
    "import seaborn as sns"
   ]
  },
  {
   "cell_type": "code",
   "execution_count": 2,
   "metadata": {},
   "outputs": [
    {
     "name": "stdout",
     "output_type": "stream",
     "text": [
      "Elapsed time: 0.29 seconds\n"
     ]
    },
    {
     "data": {
      "text/plain": [
       "(59094, 23)"
      ]
     },
     "execution_count": 2,
     "metadata": {},
     "output_type": "execute_result"
    }
   ],
   "source": [
    "# Reading Heart disease mortality data from csv\n",
    "\n",
    "start_time = time.time()\n",
    "\n",
    "df1 = pandas.read_csv('Heart_Disease_Mortality_Data_Among_US_Adults__35___by_State_Territory_and_County___2015-2017.csv') # read the file\n",
    "print('Elapsed time:', round(time.time() - start_time, 2), 'seconds')\n",
    "\n",
    "# Checking number of rows and colums in the dataset\n",
    "df1.shape"
   ]
  },
  {
   "cell_type": "code",
   "execution_count": 3,
   "metadata": {},
   "outputs": [],
   "source": [
    "#Checking feature information\n",
    "#df1.info()"
   ]
  },
  {
   "cell_type": "code",
   "execution_count": 4,
   "metadata": {},
   "outputs": [
    {
     "data": {
      "text/html": [
       "<div>\n",
       "<style scoped>\n",
       "    .dataframe tbody tr th:only-of-type {\n",
       "        vertical-align: middle;\n",
       "    }\n",
       "\n",
       "    .dataframe tbody tr th {\n",
       "        vertical-align: top;\n",
       "    }\n",
       "\n",
       "    .dataframe thead th {\n",
       "        text-align: right;\n",
       "    }\n",
       "</style>\n",
       "<table border=\"1\" class=\"dataframe\">\n",
       "  <thead>\n",
       "    <tr style=\"text-align: right;\">\n",
       "      <th></th>\n",
       "      <th>Year</th>\n",
       "      <th>LocationAbbr</th>\n",
       "      <th>LocationDesc</th>\n",
       "      <th>GeographicLevel</th>\n",
       "      <th>DataSource</th>\n",
       "      <th>Class</th>\n",
       "      <th>Topic</th>\n",
       "      <th>Data_Value</th>\n",
       "      <th>Data_Value_Unit</th>\n",
       "      <th>Data_Value_Type</th>\n",
       "      <th>...</th>\n",
       "      <th>Stratification1</th>\n",
       "      <th>StratificationCategory2</th>\n",
       "      <th>Stratification2</th>\n",
       "      <th>TopicID</th>\n",
       "      <th>LocationID</th>\n",
       "      <th>Y_lat</th>\n",
       "      <th>X_lon</th>\n",
       "      <th>Georeference Column</th>\n",
       "      <th>States</th>\n",
       "      <th>Counties</th>\n",
       "    </tr>\n",
       "  </thead>\n",
       "  <tbody>\n",
       "    <tr>\n",
       "      <th>9465</th>\n",
       "      <td>2016</td>\n",
       "      <td>GA</td>\n",
       "      <td>Pike County</td>\n",
       "      <td>County</td>\n",
       "      <td>NVSS</td>\n",
       "      <td>Cardiovascular Diseases</td>\n",
       "      <td>Heart Disease Mortality</td>\n",
       "      <td>598.3</td>\n",
       "      <td>per 100,000 population</td>\n",
       "      <td>Age-adjusted, Spatially Smoothed, 3-year Avera...</td>\n",
       "      <td>...</td>\n",
       "      <td>Male</td>\n",
       "      <td>Race/Ethnicity</td>\n",
       "      <td>Black</td>\n",
       "      <td>T2</td>\n",
       "      <td>13231</td>\n",
       "      <td>33.090985</td>\n",
       "      <td>-84.386642</td>\n",
       "      <td>POINT (-84.38664209 33.090984989)</td>\n",
       "      <td>31.0</td>\n",
       "      <td>1518.0</td>\n",
       "    </tr>\n",
       "    <tr>\n",
       "      <th>12762</th>\n",
       "      <td>2016</td>\n",
       "      <td>GA</td>\n",
       "      <td>Monroe County</td>\n",
       "      <td>County</td>\n",
       "      <td>NVSS</td>\n",
       "      <td>Cardiovascular Diseases</td>\n",
       "      <td>Heart Disease Mortality</td>\n",
       "      <td>500.4</td>\n",
       "      <td>per 100,000 population</td>\n",
       "      <td>Age-adjusted, Spatially Smoothed, 3-year Avera...</td>\n",
       "      <td>...</td>\n",
       "      <td>Male</td>\n",
       "      <td>Race/Ethnicity</td>\n",
       "      <td>White</td>\n",
       "      <td>T2</td>\n",
       "      <td>13207</td>\n",
       "      <td>33.012693</td>\n",
       "      <td>-83.915223</td>\n",
       "      <td>POINT (-83.91522344 33.012692702)</td>\n",
       "      <td>31.0</td>\n",
       "      <td>1470.0</td>\n",
       "    </tr>\n",
       "    <tr>\n",
       "      <th>29129</th>\n",
       "      <td>2016</td>\n",
       "      <td>NC</td>\n",
       "      <td>Lenoir County</td>\n",
       "      <td>County</td>\n",
       "      <td>NVSS</td>\n",
       "      <td>Cardiovascular Diseases</td>\n",
       "      <td>Heart Disease Mortality</td>\n",
       "      <td>NaN</td>\n",
       "      <td>per 100,000 population</td>\n",
       "      <td>Age-adjusted, Spatially Smoothed, 3-year Avera...</td>\n",
       "      <td>...</td>\n",
       "      <td>Male</td>\n",
       "      <td>Race/Ethnicity</td>\n",
       "      <td>Asian and Pacific Islander</td>\n",
       "      <td>T2</td>\n",
       "      <td>37107</td>\n",
       "      <td>35.233001</td>\n",
       "      <td>-77.645186</td>\n",
       "      <td>POINT (-77.64518578 35.233000735)</td>\n",
       "      <td>37.0</td>\n",
       "      <td>2391.0</td>\n",
       "    </tr>\n",
       "    <tr>\n",
       "      <th>9249</th>\n",
       "      <td>2016</td>\n",
       "      <td>IN</td>\n",
       "      <td>Decatur County</td>\n",
       "      <td>County</td>\n",
       "      <td>NVSS</td>\n",
       "      <td>Cardiovascular Diseases</td>\n",
       "      <td>Heart Disease Mortality</td>\n",
       "      <td>NaN</td>\n",
       "      <td>per 100,000 population</td>\n",
       "      <td>Age-adjusted, Spatially Smoothed, 3-year Avera...</td>\n",
       "      <td>...</td>\n",
       "      <td>Male</td>\n",
       "      <td>Race/Ethnicity</td>\n",
       "      <td>Black</td>\n",
       "      <td>T2</td>\n",
       "      <td>18031</td>\n",
       "      <td>39.301109</td>\n",
       "      <td>-85.514172</td>\n",
       "      <td>POINT (-85.51417236 39.301108529)</td>\n",
       "      <td>35.0</td>\n",
       "      <td>146.0</td>\n",
       "    </tr>\n",
       "    <tr>\n",
       "      <th>6881</th>\n",
       "      <td>2016</td>\n",
       "      <td>GA</td>\n",
       "      <td>Baldwin County</td>\n",
       "      <td>County</td>\n",
       "      <td>NVSS</td>\n",
       "      <td>Cardiovascular Diseases</td>\n",
       "      <td>Heart Disease Mortality</td>\n",
       "      <td>426.5</td>\n",
       "      <td>per 100,000 population</td>\n",
       "      <td>Age-adjusted, Spatially Smoothed, 3-year Avera...</td>\n",
       "      <td>...</td>\n",
       "      <td>Female</td>\n",
       "      <td>Race/Ethnicity</td>\n",
       "      <td>Black</td>\n",
       "      <td>T2</td>\n",
       "      <td>13009</td>\n",
       "      <td>33.064546</td>\n",
       "      <td>-83.243170</td>\n",
       "      <td>POINT (-83.24316995 33.06454559)</td>\n",
       "      <td>31.0</td>\n",
       "      <td>56.0</td>\n",
       "    </tr>\n",
       "  </tbody>\n",
       "</table>\n",
       "<p>5 rows × 23 columns</p>\n",
       "</div>"
      ],
      "text/plain": [
       "       Year LocationAbbr    LocationDesc GeographicLevel DataSource  \\\n",
       "9465   2016           GA     Pike County          County       NVSS   \n",
       "12762  2016           GA   Monroe County          County       NVSS   \n",
       "29129  2016           NC   Lenoir County          County       NVSS   \n",
       "9249   2016           IN  Decatur County          County       NVSS   \n",
       "6881   2016           GA  Baldwin County          County       NVSS   \n",
       "\n",
       "                         Class                    Topic  Data_Value  \\\n",
       "9465   Cardiovascular Diseases  Heart Disease Mortality       598.3   \n",
       "12762  Cardiovascular Diseases  Heart Disease Mortality       500.4   \n",
       "29129  Cardiovascular Diseases  Heart Disease Mortality         NaN   \n",
       "9249   Cardiovascular Diseases  Heart Disease Mortality         NaN   \n",
       "6881   Cardiovascular Diseases  Heart Disease Mortality       426.5   \n",
       "\n",
       "              Data_Value_Unit  \\\n",
       "9465   per 100,000 population   \n",
       "12762  per 100,000 population   \n",
       "29129  per 100,000 population   \n",
       "9249   per 100,000 population   \n",
       "6881   per 100,000 population   \n",
       "\n",
       "                                         Data_Value_Type  ... Stratification1  \\\n",
       "9465   Age-adjusted, Spatially Smoothed, 3-year Avera...  ...            Male   \n",
       "12762  Age-adjusted, Spatially Smoothed, 3-year Avera...  ...            Male   \n",
       "29129  Age-adjusted, Spatially Smoothed, 3-year Avera...  ...            Male   \n",
       "9249   Age-adjusted, Spatially Smoothed, 3-year Avera...  ...            Male   \n",
       "6881   Age-adjusted, Spatially Smoothed, 3-year Avera...  ...          Female   \n",
       "\n",
       "      StratificationCategory2             Stratification2 TopicID LocationID  \\\n",
       "9465           Race/Ethnicity                       Black      T2      13231   \n",
       "12762          Race/Ethnicity                       White      T2      13207   \n",
       "29129          Race/Ethnicity  Asian and Pacific Islander      T2      37107   \n",
       "9249           Race/Ethnicity                       Black      T2      18031   \n",
       "6881           Race/Ethnicity                       Black      T2      13009   \n",
       "\n",
       "           Y_lat      X_lon                Georeference Column  States  \\\n",
       "9465   33.090985 -84.386642  POINT (-84.38664209 33.090984989)    31.0   \n",
       "12762  33.012693 -83.915223  POINT (-83.91522344 33.012692702)    31.0   \n",
       "29129  35.233001 -77.645186  POINT (-77.64518578 35.233000735)    37.0   \n",
       "9249   39.301109 -85.514172  POINT (-85.51417236 39.301108529)    35.0   \n",
       "6881   33.064546 -83.243170   POINT (-83.24316995 33.06454559)    31.0   \n",
       "\n",
       "       Counties  \n",
       "9465     1518.0  \n",
       "12762    1470.0  \n",
       "29129    2391.0  \n",
       "9249      146.0  \n",
       "6881       56.0  \n",
       "\n",
       "[5 rows x 23 columns]"
      ]
     },
     "execution_count": 4,
     "metadata": {},
     "output_type": "execute_result"
    }
   ],
   "source": [
    "# Small sample view of the Heart disease dataset\n",
    "df1.sample(5)"
   ]
  },
  {
   "cell_type": "code",
   "execution_count": 5,
   "metadata": {},
   "outputs": [
    {
     "name": "stdout",
     "output_type": "stream",
     "text": [
      "Elapsed time: 0.27 seconds\n"
     ]
    },
    {
     "data": {
      "text/plain": [
       "(59094, 23)"
      ]
     },
     "execution_count": 5,
     "metadata": {},
     "output_type": "execute_result"
    }
   ],
   "source": [
    "# Reading stroke mortality data from csv\n",
    "\n",
    "start_time = time.time()\n",
    "\n",
    "df2 = pandas.read_csv('Stroke_Mortality_Data_Among_US_Adults__35___by_State_Territory_and_County___2015-2017.csv') # read the file\n",
    "print('Elapsed time:', round(time.time() - start_time, 2), 'seconds')\n",
    "\n",
    "# Checking number of rows and columns in the dataset\n",
    "df2.shape"
   ]
  },
  {
   "cell_type": "code",
   "execution_count": 6,
   "metadata": {},
   "outputs": [
    {
     "data": {
      "text/html": [
       "<div>\n",
       "<style scoped>\n",
       "    .dataframe tbody tr th:only-of-type {\n",
       "        vertical-align: middle;\n",
       "    }\n",
       "\n",
       "    .dataframe tbody tr th {\n",
       "        vertical-align: top;\n",
       "    }\n",
       "\n",
       "    .dataframe thead th {\n",
       "        text-align: right;\n",
       "    }\n",
       "</style>\n",
       "<table border=\"1\" class=\"dataframe\">\n",
       "  <thead>\n",
       "    <tr style=\"text-align: right;\">\n",
       "      <th></th>\n",
       "      <th>Year</th>\n",
       "      <th>LocationAbbr</th>\n",
       "      <th>LocationDesc</th>\n",
       "      <th>GeographicLevel</th>\n",
       "      <th>DataSource</th>\n",
       "      <th>Class</th>\n",
       "      <th>Topic</th>\n",
       "      <th>Data_Value</th>\n",
       "      <th>Data_Value_Unit</th>\n",
       "      <th>Data_Value_Type</th>\n",
       "      <th>...</th>\n",
       "      <th>Stratification1</th>\n",
       "      <th>StratificationCategory2</th>\n",
       "      <th>Stratification2</th>\n",
       "      <th>TopicID</th>\n",
       "      <th>LocationID</th>\n",
       "      <th>Y_lat</th>\n",
       "      <th>X_lon</th>\n",
       "      <th>Georeferenced Column</th>\n",
       "      <th>States</th>\n",
       "      <th>Counties</th>\n",
       "    </tr>\n",
       "  </thead>\n",
       "  <tbody>\n",
       "    <tr>\n",
       "      <th>46475</th>\n",
       "      <td>2016</td>\n",
       "      <td>PA</td>\n",
       "      <td>Northumberland County</td>\n",
       "      <td>County</td>\n",
       "      <td>NVSS</td>\n",
       "      <td>Cardiovascular Diseases</td>\n",
       "      <td>Stroke Mortality</td>\n",
       "      <td>67.1</td>\n",
       "      <td>per 100,000 population</td>\n",
       "      <td>Age-adjusted, Spatially Smoothed, 3-year Avera...</td>\n",
       "      <td>...</td>\n",
       "      <td>Female</td>\n",
       "      <td>Race/Ethnicity</td>\n",
       "      <td>White</td>\n",
       "      <td>T6</td>\n",
       "      <td>42097</td>\n",
       "      <td>40.851425</td>\n",
       "      <td>-76.712200</td>\n",
       "      <td>POINT (-76.71219981 40.851425479)</td>\n",
       "      <td>48.0</td>\n",
       "      <td>2600.0</td>\n",
       "    </tr>\n",
       "    <tr>\n",
       "      <th>16189</th>\n",
       "      <td>2016</td>\n",
       "      <td>IN</td>\n",
       "      <td>Starke County</td>\n",
       "      <td>County</td>\n",
       "      <td>NVSS</td>\n",
       "      <td>Cardiovascular Diseases</td>\n",
       "      <td>Stroke Mortality</td>\n",
       "      <td>66.7</td>\n",
       "      <td>per 100,000 population</td>\n",
       "      <td>Age-adjusted, Spatially Smoothed, 3-year Avera...</td>\n",
       "      <td>...</td>\n",
       "      <td>Female</td>\n",
       "      <td>Race/Ethnicity</td>\n",
       "      <td>White</td>\n",
       "      <td>T6</td>\n",
       "      <td>18149</td>\n",
       "      <td>41.284058</td>\n",
       "      <td>-86.652897</td>\n",
       "      <td>POINT (-86.6528974 41.284058141)</td>\n",
       "      <td>35.0</td>\n",
       "      <td>1205.0</td>\n",
       "    </tr>\n",
       "    <tr>\n",
       "      <th>51066</th>\n",
       "      <td>2016</td>\n",
       "      <td>PR</td>\n",
       "      <td>Maricao Municipio</td>\n",
       "      <td>County</td>\n",
       "      <td>NVSS</td>\n",
       "      <td>Cardiovascular Diseases</td>\n",
       "      <td>Stroke Mortality</td>\n",
       "      <td>44.0</td>\n",
       "      <td>per 100,000 population</td>\n",
       "      <td>Age-adjusted, Spatially Smoothed, 3-year Avera...</td>\n",
       "      <td>...</td>\n",
       "      <td>Female</td>\n",
       "      <td>Race/Ethnicity</td>\n",
       "      <td>Overall</td>\n",
       "      <td>T6</td>\n",
       "      <td>72093</td>\n",
       "      <td>18.172140</td>\n",
       "      <td>-66.942860</td>\n",
       "      <td>POINT (-66.94285973 18.172139995)</td>\n",
       "      <td>NaN</td>\n",
       "      <td>3057.0</td>\n",
       "    </tr>\n",
       "    <tr>\n",
       "      <th>10852</th>\n",
       "      <td>2016</td>\n",
       "      <td>FL</td>\n",
       "      <td>Columbia County</td>\n",
       "      <td>County</td>\n",
       "      <td>NVSS</td>\n",
       "      <td>Cardiovascular Diseases</td>\n",
       "      <td>Stroke Mortality</td>\n",
       "      <td>NaN</td>\n",
       "      <td>per 100,000 population</td>\n",
       "      <td>Age-adjusted, Spatially Smoothed, 3-year Avera...</td>\n",
       "      <td>...</td>\n",
       "      <td>Female</td>\n",
       "      <td>Race/Ethnicity</td>\n",
       "      <td>Asian and Pacific Islander</td>\n",
       "      <td>T6</td>\n",
       "      <td>12023</td>\n",
       "      <td>30.223834</td>\n",
       "      <td>-82.618618</td>\n",
       "      <td>POINT (-82.61861824 30.223834075000003)</td>\n",
       "      <td>30.0</td>\n",
       "      <td>1096.0</td>\n",
       "    </tr>\n",
       "    <tr>\n",
       "      <th>31628</th>\n",
       "      <td>2016</td>\n",
       "      <td>KS</td>\n",
       "      <td>Greenwood County</td>\n",
       "      <td>County</td>\n",
       "      <td>NVSS</td>\n",
       "      <td>Cardiovascular Diseases</td>\n",
       "      <td>Stroke Mortality</td>\n",
       "      <td>NaN</td>\n",
       "      <td>per 100,000 population</td>\n",
       "      <td>Age-adjusted, Spatially Smoothed, 3-year Avera...</td>\n",
       "      <td>...</td>\n",
       "      <td>Male</td>\n",
       "      <td>Race/Ethnicity</td>\n",
       "      <td>Asian and Pacific Islander</td>\n",
       "      <td>T6</td>\n",
       "      <td>20073</td>\n",
       "      <td>37.873826</td>\n",
       "      <td>-96.227508</td>\n",
       "      <td>POINT (-96.22750773 37.87382612)</td>\n",
       "      <td>17.0</td>\n",
       "      <td>319.0</td>\n",
       "    </tr>\n",
       "  </tbody>\n",
       "</table>\n",
       "<p>5 rows × 23 columns</p>\n",
       "</div>"
      ],
      "text/plain": [
       "       Year LocationAbbr           LocationDesc GeographicLevel DataSource  \\\n",
       "46475  2016           PA  Northumberland County          County       NVSS   \n",
       "16189  2016           IN          Starke County          County       NVSS   \n",
       "51066  2016           PR      Maricao Municipio          County       NVSS   \n",
       "10852  2016           FL        Columbia County          County       NVSS   \n",
       "31628  2016           KS       Greenwood County          County       NVSS   \n",
       "\n",
       "                         Class             Topic  Data_Value  \\\n",
       "46475  Cardiovascular Diseases  Stroke Mortality        67.1   \n",
       "16189  Cardiovascular Diseases  Stroke Mortality        66.7   \n",
       "51066  Cardiovascular Diseases  Stroke Mortality        44.0   \n",
       "10852  Cardiovascular Diseases  Stroke Mortality         NaN   \n",
       "31628  Cardiovascular Diseases  Stroke Mortality         NaN   \n",
       "\n",
       "              Data_Value_Unit  \\\n",
       "46475  per 100,000 population   \n",
       "16189  per 100,000 population   \n",
       "51066  per 100,000 population   \n",
       "10852  per 100,000 population   \n",
       "31628  per 100,000 population   \n",
       "\n",
       "                                         Data_Value_Type  ... Stratification1  \\\n",
       "46475  Age-adjusted, Spatially Smoothed, 3-year Avera...  ...          Female   \n",
       "16189  Age-adjusted, Spatially Smoothed, 3-year Avera...  ...          Female   \n",
       "51066  Age-adjusted, Spatially Smoothed, 3-year Avera...  ...          Female   \n",
       "10852  Age-adjusted, Spatially Smoothed, 3-year Avera...  ...          Female   \n",
       "31628  Age-adjusted, Spatially Smoothed, 3-year Avera...  ...            Male   \n",
       "\n",
       "      StratificationCategory2             Stratification2 TopicID LocationID  \\\n",
       "46475          Race/Ethnicity                       White      T6      42097   \n",
       "16189          Race/Ethnicity                       White      T6      18149   \n",
       "51066          Race/Ethnicity                     Overall      T6      72093   \n",
       "10852          Race/Ethnicity  Asian and Pacific Islander      T6      12023   \n",
       "31628          Race/Ethnicity  Asian and Pacific Islander      T6      20073   \n",
       "\n",
       "           Y_lat      X_lon                     Georeferenced Column  States  \\\n",
       "46475  40.851425 -76.712200        POINT (-76.71219981 40.851425479)    48.0   \n",
       "16189  41.284058 -86.652897         POINT (-86.6528974 41.284058141)    35.0   \n",
       "51066  18.172140 -66.942860        POINT (-66.94285973 18.172139995)     NaN   \n",
       "10852  30.223834 -82.618618  POINT (-82.61861824 30.223834075000003)    30.0   \n",
       "31628  37.873826 -96.227508         POINT (-96.22750773 37.87382612)    17.0   \n",
       "\n",
       "       Counties  \n",
       "46475    2600.0  \n",
       "16189    1205.0  \n",
       "51066    3057.0  \n",
       "10852    1096.0  \n",
       "31628     319.0  \n",
       "\n",
       "[5 rows x 23 columns]"
      ]
     },
     "execution_count": 6,
     "metadata": {},
     "output_type": "execute_result"
    }
   ],
   "source": [
    "# Small sample view of the stroke dataset\n",
    "df2.sample(5)"
   ]
  },
  {
   "cell_type": "code",
   "execution_count": 7,
   "metadata": {},
   "outputs": [],
   "source": [
    "#Checking feature information\n",
    "#df2.info()"
   ]
  },
  {
   "cell_type": "code",
   "execution_count": 8,
   "metadata": {},
   "outputs": [
    {
     "data": {
      "text/html": [
       "<div>\n",
       "<style scoped>\n",
       "    .dataframe tbody tr th:only-of-type {\n",
       "        vertical-align: middle;\n",
       "    }\n",
       "\n",
       "    .dataframe tbody tr th {\n",
       "        vertical-align: top;\n",
       "    }\n",
       "\n",
       "    .dataframe thead th {\n",
       "        text-align: right;\n",
       "    }\n",
       "</style>\n",
       "<table border=\"1\" class=\"dataframe\">\n",
       "  <thead>\n",
       "    <tr style=\"text-align: right;\">\n",
       "      <th></th>\n",
       "      <th>Year</th>\n",
       "      <th>LocationAbbr</th>\n",
       "      <th>LocationDesc</th>\n",
       "      <th>GeographicLevel</th>\n",
       "      <th>DataSource</th>\n",
       "      <th>Class</th>\n",
       "      <th>Topic</th>\n",
       "      <th>Data_Value</th>\n",
       "      <th>Data_Value_Unit</th>\n",
       "      <th>Data_Value_Type</th>\n",
       "      <th>...</th>\n",
       "      <th>Stratification1</th>\n",
       "      <th>StratificationCategory2</th>\n",
       "      <th>Stratification2</th>\n",
       "      <th>TopicID</th>\n",
       "      <th>LocationID</th>\n",
       "      <th>Y_lat</th>\n",
       "      <th>X_lon</th>\n",
       "      <th>Georeference Column</th>\n",
       "      <th>States</th>\n",
       "      <th>Counties</th>\n",
       "    </tr>\n",
       "  </thead>\n",
       "  <tbody>\n",
       "    <tr>\n",
       "      <th>55100</th>\n",
       "      <td>2016</td>\n",
       "      <td>WA</td>\n",
       "      <td>Grant County</td>\n",
       "      <td>County</td>\n",
       "      <td>NVSS</td>\n",
       "      <td>Cardiovascular Diseases</td>\n",
       "      <td>Heart Disease Mortality</td>\n",
       "      <td>335.9</td>\n",
       "      <td>per 100,000 population</td>\n",
       "      <td>Age-adjusted, Spatially Smoothed, 3-year Avera...</td>\n",
       "      <td>...</td>\n",
       "      <td>Overall</td>\n",
       "      <td>Race/Ethnicity</td>\n",
       "      <td>White</td>\n",
       "      <td>T2</td>\n",
       "      <td>53025</td>\n",
       "      <td>47.20431</td>\n",
       "      <td>-119.451721</td>\n",
       "      <td>POINT (-119.4517205 47.204310222)</td>\n",
       "      <td>6.0</td>\n",
       "      <td>2982.0</td>\n",
       "    </tr>\n",
       "    <tr>\n",
       "      <th>55686</th>\n",
       "      <td>2016</td>\n",
       "      <td>WA</td>\n",
       "      <td>Grant County</td>\n",
       "      <td>County</td>\n",
       "      <td>NVSS</td>\n",
       "      <td>Cardiovascular Diseases</td>\n",
       "      <td>Heart Disease Mortality</td>\n",
       "      <td>321.5</td>\n",
       "      <td>per 100,000 population</td>\n",
       "      <td>Age-adjusted, Spatially Smoothed, 3-year Avera...</td>\n",
       "      <td>...</td>\n",
       "      <td>Overall</td>\n",
       "      <td>Race/Ethnicity</td>\n",
       "      <td>Black</td>\n",
       "      <td>T2</td>\n",
       "      <td>53025</td>\n",
       "      <td>47.20431</td>\n",
       "      <td>-119.451721</td>\n",
       "      <td>POINT (-119.4517205 47.204310222)</td>\n",
       "      <td>6.0</td>\n",
       "      <td>2982.0</td>\n",
       "    </tr>\n",
       "    <tr>\n",
       "      <th>56080</th>\n",
       "      <td>2016</td>\n",
       "      <td>WA</td>\n",
       "      <td>Grant County</td>\n",
       "      <td>County</td>\n",
       "      <td>NVSS</td>\n",
       "      <td>Cardiovascular Diseases</td>\n",
       "      <td>Heart Disease Mortality</td>\n",
       "      <td>237.0</td>\n",
       "      <td>per 100,000 population</td>\n",
       "      <td>Age-adjusted, Spatially Smoothed, 3-year Avera...</td>\n",
       "      <td>...</td>\n",
       "      <td>Male</td>\n",
       "      <td>Race/Ethnicity</td>\n",
       "      <td>Hispanic</td>\n",
       "      <td>T2</td>\n",
       "      <td>53025</td>\n",
       "      <td>47.20431</td>\n",
       "      <td>-119.451721</td>\n",
       "      <td>POINT (-119.4517205 47.204310222)</td>\n",
       "      <td>6.0</td>\n",
       "      <td>2982.0</td>\n",
       "    </tr>\n",
       "    <tr>\n",
       "      <th>58529</th>\n",
       "      <td>2016</td>\n",
       "      <td>WA</td>\n",
       "      <td>Grant County</td>\n",
       "      <td>County</td>\n",
       "      <td>NVSS</td>\n",
       "      <td>Cardiovascular Diseases</td>\n",
       "      <td>Heart Disease Mortality</td>\n",
       "      <td>243.5</td>\n",
       "      <td>per 100,000 population</td>\n",
       "      <td>Age-adjusted, Spatially Smoothed, 3-year Avera...</td>\n",
       "      <td>...</td>\n",
       "      <td>Female</td>\n",
       "      <td>Race/Ethnicity</td>\n",
       "      <td>Overall</td>\n",
       "      <td>T2</td>\n",
       "      <td>53025</td>\n",
       "      <td>47.20431</td>\n",
       "      <td>-119.451721</td>\n",
       "      <td>POINT (-119.4517205 47.204310222)</td>\n",
       "      <td>6.0</td>\n",
       "      <td>2982.0</td>\n",
       "    </tr>\n",
       "    <tr>\n",
       "      <th>56133</th>\n",
       "      <td>2016</td>\n",
       "      <td>WA</td>\n",
       "      <td>Grant County</td>\n",
       "      <td>County</td>\n",
       "      <td>NVSS</td>\n",
       "      <td>Cardiovascular Diseases</td>\n",
       "      <td>Heart Disease Mortality</td>\n",
       "      <td>205.7</td>\n",
       "      <td>per 100,000 population</td>\n",
       "      <td>Age-adjusted, Spatially Smoothed, 3-year Avera...</td>\n",
       "      <td>...</td>\n",
       "      <td>Overall</td>\n",
       "      <td>Race/Ethnicity</td>\n",
       "      <td>Asian and Pacific Islander</td>\n",
       "      <td>T2</td>\n",
       "      <td>53025</td>\n",
       "      <td>47.20431</td>\n",
       "      <td>-119.451721</td>\n",
       "      <td>POINT (-119.4517205 47.204310222)</td>\n",
       "      <td>6.0</td>\n",
       "      <td>2982.0</td>\n",
       "    </tr>\n",
       "    <tr>\n",
       "      <th>51718</th>\n",
       "      <td>2016</td>\n",
       "      <td>WA</td>\n",
       "      <td>Grant County</td>\n",
       "      <td>County</td>\n",
       "      <td>NVSS</td>\n",
       "      <td>Cardiovascular Diseases</td>\n",
       "      <td>Heart Disease Mortality</td>\n",
       "      <td>151.8</td>\n",
       "      <td>per 100,000 population</td>\n",
       "      <td>Age-adjusted, Spatially Smoothed, 3-year Avera...</td>\n",
       "      <td>...</td>\n",
       "      <td>Female</td>\n",
       "      <td>Race/Ethnicity</td>\n",
       "      <td>Hispanic</td>\n",
       "      <td>T2</td>\n",
       "      <td>53025</td>\n",
       "      <td>47.20431</td>\n",
       "      <td>-119.451721</td>\n",
       "      <td>POINT (-119.4517205 47.204310222)</td>\n",
       "      <td>6.0</td>\n",
       "      <td>2982.0</td>\n",
       "    </tr>\n",
       "    <tr>\n",
       "      <th>52146</th>\n",
       "      <td>2016</td>\n",
       "      <td>WA</td>\n",
       "      <td>Grant County</td>\n",
       "      <td>County</td>\n",
       "      <td>NVSS</td>\n",
       "      <td>Cardiovascular Diseases</td>\n",
       "      <td>Heart Disease Mortality</td>\n",
       "      <td>234.0</td>\n",
       "      <td>per 100,000 population</td>\n",
       "      <td>Age-adjusted, Spatially Smoothed, 3-year Avera...</td>\n",
       "      <td>...</td>\n",
       "      <td>Male</td>\n",
       "      <td>Race/Ethnicity</td>\n",
       "      <td>Asian and Pacific Islander</td>\n",
       "      <td>T2</td>\n",
       "      <td>53025</td>\n",
       "      <td>47.20431</td>\n",
       "      <td>-119.451721</td>\n",
       "      <td>POINT (-119.4517205 47.204310222)</td>\n",
       "      <td>6.0</td>\n",
       "      <td>2982.0</td>\n",
       "    </tr>\n",
       "    <tr>\n",
       "      <th>55165</th>\n",
       "      <td>2016</td>\n",
       "      <td>WA</td>\n",
       "      <td>Grant County</td>\n",
       "      <td>County</td>\n",
       "      <td>NVSS</td>\n",
       "      <td>Cardiovascular Diseases</td>\n",
       "      <td>Heart Disease Mortality</td>\n",
       "      <td>418.0</td>\n",
       "      <td>per 100,000 population</td>\n",
       "      <td>Age-adjusted, Spatially Smoothed, 3-year Avera...</td>\n",
       "      <td>...</td>\n",
       "      <td>Male</td>\n",
       "      <td>Race/Ethnicity</td>\n",
       "      <td>White</td>\n",
       "      <td>T2</td>\n",
       "      <td>53025</td>\n",
       "      <td>47.20431</td>\n",
       "      <td>-119.451721</td>\n",
       "      <td>POINT (-119.4517205 47.204310222)</td>\n",
       "      <td>6.0</td>\n",
       "      <td>2982.0</td>\n",
       "    </tr>\n",
       "    <tr>\n",
       "      <th>58065</th>\n",
       "      <td>2016</td>\n",
       "      <td>WA</td>\n",
       "      <td>Grant County</td>\n",
       "      <td>County</td>\n",
       "      <td>NVSS</td>\n",
       "      <td>Cardiovascular Diseases</td>\n",
       "      <td>Heart Disease Mortality</td>\n",
       "      <td>452.2</td>\n",
       "      <td>per 100,000 population</td>\n",
       "      <td>Age-adjusted, Spatially Smoothed, 3-year Avera...</td>\n",
       "      <td>...</td>\n",
       "      <td>Overall</td>\n",
       "      <td>Race/Ethnicity</td>\n",
       "      <td>American Indian and Alaskan Native</td>\n",
       "      <td>T2</td>\n",
       "      <td>53025</td>\n",
       "      <td>47.20431</td>\n",
       "      <td>-119.451721</td>\n",
       "      <td>POINT (-119.4517205 47.204310222)</td>\n",
       "      <td>6.0</td>\n",
       "      <td>2982.0</td>\n",
       "    </tr>\n",
       "    <tr>\n",
       "      <th>52724</th>\n",
       "      <td>2016</td>\n",
       "      <td>WA</td>\n",
       "      <td>Grant County</td>\n",
       "      <td>County</td>\n",
       "      <td>NVSS</td>\n",
       "      <td>Cardiovascular Diseases</td>\n",
       "      <td>Heart Disease Mortality</td>\n",
       "      <td>NaN</td>\n",
       "      <td>per 100,000 population</td>\n",
       "      <td>Age-adjusted, Spatially Smoothed, 3-year Avera...</td>\n",
       "      <td>...</td>\n",
       "      <td>Female</td>\n",
       "      <td>Race/Ethnicity</td>\n",
       "      <td>Black</td>\n",
       "      <td>T2</td>\n",
       "      <td>53025</td>\n",
       "      <td>47.20431</td>\n",
       "      <td>-119.451721</td>\n",
       "      <td>POINT (-119.4517205 47.204310222)</td>\n",
       "      <td>6.0</td>\n",
       "      <td>2982.0</td>\n",
       "    </tr>\n",
       "  </tbody>\n",
       "</table>\n",
       "<p>10 rows × 23 columns</p>\n",
       "</div>"
      ],
      "text/plain": [
       "       Year LocationAbbr  LocationDesc GeographicLevel DataSource  \\\n",
       "55100  2016           WA  Grant County          County       NVSS   \n",
       "55686  2016           WA  Grant County          County       NVSS   \n",
       "56080  2016           WA  Grant County          County       NVSS   \n",
       "58529  2016           WA  Grant County          County       NVSS   \n",
       "56133  2016           WA  Grant County          County       NVSS   \n",
       "51718  2016           WA  Grant County          County       NVSS   \n",
       "52146  2016           WA  Grant County          County       NVSS   \n",
       "55165  2016           WA  Grant County          County       NVSS   \n",
       "58065  2016           WA  Grant County          County       NVSS   \n",
       "52724  2016           WA  Grant County          County       NVSS   \n",
       "\n",
       "                         Class                    Topic  Data_Value  \\\n",
       "55100  Cardiovascular Diseases  Heart Disease Mortality       335.9   \n",
       "55686  Cardiovascular Diseases  Heart Disease Mortality       321.5   \n",
       "56080  Cardiovascular Diseases  Heart Disease Mortality       237.0   \n",
       "58529  Cardiovascular Diseases  Heart Disease Mortality       243.5   \n",
       "56133  Cardiovascular Diseases  Heart Disease Mortality       205.7   \n",
       "51718  Cardiovascular Diseases  Heart Disease Mortality       151.8   \n",
       "52146  Cardiovascular Diseases  Heart Disease Mortality       234.0   \n",
       "55165  Cardiovascular Diseases  Heart Disease Mortality       418.0   \n",
       "58065  Cardiovascular Diseases  Heart Disease Mortality       452.2   \n",
       "52724  Cardiovascular Diseases  Heart Disease Mortality         NaN   \n",
       "\n",
       "              Data_Value_Unit  \\\n",
       "55100  per 100,000 population   \n",
       "55686  per 100,000 population   \n",
       "56080  per 100,000 population   \n",
       "58529  per 100,000 population   \n",
       "56133  per 100,000 population   \n",
       "51718  per 100,000 population   \n",
       "52146  per 100,000 population   \n",
       "55165  per 100,000 population   \n",
       "58065  per 100,000 population   \n",
       "52724  per 100,000 population   \n",
       "\n",
       "                                         Data_Value_Type  ... Stratification1  \\\n",
       "55100  Age-adjusted, Spatially Smoothed, 3-year Avera...  ...         Overall   \n",
       "55686  Age-adjusted, Spatially Smoothed, 3-year Avera...  ...         Overall   \n",
       "56080  Age-adjusted, Spatially Smoothed, 3-year Avera...  ...            Male   \n",
       "58529  Age-adjusted, Spatially Smoothed, 3-year Avera...  ...          Female   \n",
       "56133  Age-adjusted, Spatially Smoothed, 3-year Avera...  ...         Overall   \n",
       "51718  Age-adjusted, Spatially Smoothed, 3-year Avera...  ...          Female   \n",
       "52146  Age-adjusted, Spatially Smoothed, 3-year Avera...  ...            Male   \n",
       "55165  Age-adjusted, Spatially Smoothed, 3-year Avera...  ...            Male   \n",
       "58065  Age-adjusted, Spatially Smoothed, 3-year Avera...  ...         Overall   \n",
       "52724  Age-adjusted, Spatially Smoothed, 3-year Avera...  ...          Female   \n",
       "\n",
       "      StratificationCategory2                     Stratification2 TopicID  \\\n",
       "55100          Race/Ethnicity                               White      T2   \n",
       "55686          Race/Ethnicity                               Black      T2   \n",
       "56080          Race/Ethnicity                            Hispanic      T2   \n",
       "58529          Race/Ethnicity                             Overall      T2   \n",
       "56133          Race/Ethnicity          Asian and Pacific Islander      T2   \n",
       "51718          Race/Ethnicity                            Hispanic      T2   \n",
       "52146          Race/Ethnicity          Asian and Pacific Islander      T2   \n",
       "55165          Race/Ethnicity                               White      T2   \n",
       "58065          Race/Ethnicity  American Indian and Alaskan Native      T2   \n",
       "52724          Race/Ethnicity                               Black      T2   \n",
       "\n",
       "      LocationID     Y_lat       X_lon                Georeference Column  \\\n",
       "55100      53025  47.20431 -119.451721  POINT (-119.4517205 47.204310222)   \n",
       "55686      53025  47.20431 -119.451721  POINT (-119.4517205 47.204310222)   \n",
       "56080      53025  47.20431 -119.451721  POINT (-119.4517205 47.204310222)   \n",
       "58529      53025  47.20431 -119.451721  POINT (-119.4517205 47.204310222)   \n",
       "56133      53025  47.20431 -119.451721  POINT (-119.4517205 47.204310222)   \n",
       "51718      53025  47.20431 -119.451721  POINT (-119.4517205 47.204310222)   \n",
       "52146      53025  47.20431 -119.451721  POINT (-119.4517205 47.204310222)   \n",
       "55165      53025  47.20431 -119.451721  POINT (-119.4517205 47.204310222)   \n",
       "58065      53025  47.20431 -119.451721  POINT (-119.4517205 47.204310222)   \n",
       "52724      53025  47.20431 -119.451721  POINT (-119.4517205 47.204310222)   \n",
       "\n",
       "       States  Counties  \n",
       "55100     6.0    2982.0  \n",
       "55686     6.0    2982.0  \n",
       "56080     6.0    2982.0  \n",
       "58529     6.0    2982.0  \n",
       "56133     6.0    2982.0  \n",
       "51718     6.0    2982.0  \n",
       "52146     6.0    2982.0  \n",
       "55165     6.0    2982.0  \n",
       "58065     6.0    2982.0  \n",
       "52724     6.0    2982.0  \n",
       "\n",
       "[10 rows x 23 columns]"
      ]
     },
     "execution_count": 8,
     "metadata": {},
     "output_type": "execute_result"
    }
   ],
   "source": [
    "# Trying to understand my dataset\n",
    "df1_WA= df1.loc[df1['LocationAbbr']=='WA']\n",
    "#df1_WA.sample(10)\n",
    "\n",
    "#df1_WA_county = df1_WA.loc[df1_WA['LocationDesc']== 'Yakima County']\n",
    "df1_WA_county = df1_WA.loc[df1_WA['LocationDesc']== 'Grant County']\n",
    "#df1_WA_county = df1_WA.loc[df1_WA['LocationDesc']== 'Snohomish County']\n",
    "\n",
    "df1_WA_county.sample(10)"
   ]
  },
  {
   "cell_type": "markdown",
   "metadata": {},
   "source": [
    "#After selecting different county from the same state, I noticed that most of the columns have the same values in all their rows.\n",
    "#The column \"Data_Value\" is the main numerical column as it gives me the \"Heart Disease Death Rate per 100,000 population\""
   ]
  },
  {
   "cell_type": "code",
   "execution_count": 9,
   "metadata": {},
   "outputs": [
    {
     "data": {
      "text/html": [
       "<div>\n",
       "<style scoped>\n",
       "    .dataframe tbody tr th:only-of-type {\n",
       "        vertical-align: middle;\n",
       "    }\n",
       "\n",
       "    .dataframe tbody tr th {\n",
       "        vertical-align: top;\n",
       "    }\n",
       "\n",
       "    .dataframe thead th {\n",
       "        text-align: right;\n",
       "    }\n",
       "</style>\n",
       "<table border=\"1\" class=\"dataframe\">\n",
       "  <thead>\n",
       "    <tr style=\"text-align: right;\">\n",
       "      <th></th>\n",
       "      <th>Year</th>\n",
       "      <th>LocationAbbr</th>\n",
       "      <th>LocationDesc</th>\n",
       "      <th>Class</th>\n",
       "      <th>Topic</th>\n",
       "      <th>Data_Value</th>\n",
       "      <th>Data_Value_Unit</th>\n",
       "      <th>Stratification1</th>\n",
       "      <th>Stratification2</th>\n",
       "    </tr>\n",
       "  </thead>\n",
       "  <tbody>\n",
       "    <tr>\n",
       "      <th>0</th>\n",
       "      <td>2016</td>\n",
       "      <td>AZ</td>\n",
       "      <td>Santa Cruz County</td>\n",
       "      <td>Cardiovascular Diseases</td>\n",
       "      <td>Heart Disease Mortality</td>\n",
       "      <td>178.8</td>\n",
       "      <td>per 100,000 population</td>\n",
       "      <td>Female</td>\n",
       "      <td>Hispanic</td>\n",
       "    </tr>\n",
       "    <tr>\n",
       "      <th>1</th>\n",
       "      <td>2016</td>\n",
       "      <td>CA</td>\n",
       "      <td>Alameda County</td>\n",
       "      <td>Cardiovascular Diseases</td>\n",
       "      <td>Heart Disease Mortality</td>\n",
       "      <td>175.0</td>\n",
       "      <td>per 100,000 population</td>\n",
       "      <td>Male</td>\n",
       "      <td>Asian and Pacific Islander</td>\n",
       "    </tr>\n",
       "    <tr>\n",
       "      <th>2</th>\n",
       "      <td>2016</td>\n",
       "      <td>FL</td>\n",
       "      <td>Volusia County</td>\n",
       "      <td>Cardiovascular Diseases</td>\n",
       "      <td>Heart Disease Mortality</td>\n",
       "      <td>186.0</td>\n",
       "      <td>per 100,000 population</td>\n",
       "      <td>Male</td>\n",
       "      <td>Asian and Pacific Islander</td>\n",
       "    </tr>\n",
       "    <tr>\n",
       "      <th>3</th>\n",
       "      <td>2016</td>\n",
       "      <td>ID</td>\n",
       "      <td>Idaho</td>\n",
       "      <td>Cardiovascular Diseases</td>\n",
       "      <td>Heart Disease Mortality</td>\n",
       "      <td>387.1</td>\n",
       "      <td>per 100,000 population</td>\n",
       "      <td>Male</td>\n",
       "      <td>Overall</td>\n",
       "    </tr>\n",
       "    <tr>\n",
       "      <th>4</th>\n",
       "      <td>2016</td>\n",
       "      <td>IL</td>\n",
       "      <td>Cook County</td>\n",
       "      <td>Cardiovascular Diseases</td>\n",
       "      <td>Heart Disease Mortality</td>\n",
       "      <td>110.2</td>\n",
       "      <td>per 100,000 population</td>\n",
       "      <td>Female</td>\n",
       "      <td>American Indian and Alaskan Native</td>\n",
       "    </tr>\n",
       "  </tbody>\n",
       "</table>\n",
       "</div>"
      ],
      "text/plain": [
       "   Year LocationAbbr       LocationDesc                    Class  \\\n",
       "0  2016           AZ  Santa Cruz County  Cardiovascular Diseases   \n",
       "1  2016           CA     Alameda County  Cardiovascular Diseases   \n",
       "2  2016           FL     Volusia County  Cardiovascular Diseases   \n",
       "3  2016           ID              Idaho  Cardiovascular Diseases   \n",
       "4  2016           IL        Cook County  Cardiovascular Diseases   \n",
       "\n",
       "                     Topic  Data_Value         Data_Value_Unit  \\\n",
       "0  Heart Disease Mortality       178.8  per 100,000 population   \n",
       "1  Heart Disease Mortality       175.0  per 100,000 population   \n",
       "2  Heart Disease Mortality       186.0  per 100,000 population   \n",
       "3  Heart Disease Mortality       387.1  per 100,000 population   \n",
       "4  Heart Disease Mortality       110.2  per 100,000 population   \n",
       "\n",
       "  Stratification1                     Stratification2  \n",
       "0          Female                            Hispanic  \n",
       "1            Male          Asian and Pacific Islander  \n",
       "2            Male          Asian and Pacific Islander  \n",
       "3            Male                             Overall  \n",
       "4          Female  American Indian and Alaskan Native  "
      ]
     },
     "execution_count": 9,
     "metadata": {},
     "output_type": "execute_result"
    }
   ],
   "source": [
    "# Heart disease\n",
    "# Select the columns we will be using\n",
    "\n",
    "df1_a = df1[['Year','LocationAbbr','LocationDesc','Class','Topic','Data_Value','Data_Value_Unit', 'Stratification1', 'Stratification2' ]]\n",
    "\n",
    "df1_a.head()"
   ]
  },
  {
   "cell_type": "code",
   "execution_count": 10,
   "metadata": {},
   "outputs": [],
   "source": [
    "# Rename the columns for heart disease\n",
    "df1_rename = df1_a.rename(columns={'LocationAbbr':'State', 'LocationDesc':'County', 'Stratification1':'Gender', 'Stratification2':'Ethnicity' })\n"
   ]
  },
  {
   "cell_type": "code",
   "execution_count": 11,
   "metadata": {},
   "outputs": [
    {
     "data": {
      "text/html": [
       "<div>\n",
       "<style scoped>\n",
       "    .dataframe tbody tr th:only-of-type {\n",
       "        vertical-align: middle;\n",
       "    }\n",
       "\n",
       "    .dataframe tbody tr th {\n",
       "        vertical-align: top;\n",
       "    }\n",
       "\n",
       "    .dataframe thead th {\n",
       "        text-align: right;\n",
       "    }\n",
       "</style>\n",
       "<table border=\"1\" class=\"dataframe\">\n",
       "  <thead>\n",
       "    <tr style=\"text-align: right;\">\n",
       "      <th></th>\n",
       "      <th>Year</th>\n",
       "      <th>State</th>\n",
       "      <th>County</th>\n",
       "      <th>Class</th>\n",
       "      <th>Topic</th>\n",
       "      <th>Data_Value</th>\n",
       "      <th>Data_Value_Unit</th>\n",
       "      <th>Gender</th>\n",
       "      <th>Ethnicity</th>\n",
       "    </tr>\n",
       "  </thead>\n",
       "  <tbody>\n",
       "    <tr>\n",
       "      <th>0</th>\n",
       "      <td>2016</td>\n",
       "      <td>AZ</td>\n",
       "      <td>Santa Cruz County</td>\n",
       "      <td>Cardiovascular Diseases</td>\n",
       "      <td>Heart Disease Mortality</td>\n",
       "      <td>178.8</td>\n",
       "      <td>per 100,000 population</td>\n",
       "      <td>Female</td>\n",
       "      <td>Hispanic</td>\n",
       "    </tr>\n",
       "    <tr>\n",
       "      <th>1</th>\n",
       "      <td>2016</td>\n",
       "      <td>CA</td>\n",
       "      <td>Alameda County</td>\n",
       "      <td>Cardiovascular Diseases</td>\n",
       "      <td>Heart Disease Mortality</td>\n",
       "      <td>175.0</td>\n",
       "      <td>per 100,000 population</td>\n",
       "      <td>Male</td>\n",
       "      <td>Asian and Pacific Islander</td>\n",
       "    </tr>\n",
       "  </tbody>\n",
       "</table>\n",
       "</div>"
      ],
      "text/plain": [
       "   Year State             County                    Class  \\\n",
       "0  2016    AZ  Santa Cruz County  Cardiovascular Diseases   \n",
       "1  2016    CA     Alameda County  Cardiovascular Diseases   \n",
       "\n",
       "                     Topic  Data_Value         Data_Value_Unit  Gender  \\\n",
       "0  Heart Disease Mortality       178.8  per 100,000 population  Female   \n",
       "1  Heart Disease Mortality       175.0  per 100,000 population    Male   \n",
       "\n",
       "                    Ethnicity  \n",
       "0                    Hispanic  \n",
       "1  Asian and Pacific Islander  "
      ]
     },
     "execution_count": 11,
     "metadata": {},
     "output_type": "execute_result"
    }
   ],
   "source": [
    "df1_rename.head(2)"
   ]
  },
  {
   "cell_type": "code",
   "execution_count": 12,
   "metadata": {},
   "outputs": [
    {
     "data": {
      "text/plain": [
       "(59094, 9)"
      ]
     },
     "execution_count": 12,
     "metadata": {},
     "output_type": "execute_result"
    }
   ],
   "source": [
    "df1_rename.shape"
   ]
  },
  {
   "cell_type": "code",
   "execution_count": 13,
   "metadata": {},
   "outputs": [],
   "source": [
    "#Drop the non value in the Data_value column\n",
    "df1_new = df1_rename.dropna(subset=['Data_Value'])"
   ]
  },
  {
   "cell_type": "code",
   "execution_count": 14,
   "metadata": {},
   "outputs": [
    {
     "data": {
      "text/plain": [
       "(32230, 9)"
      ]
     },
     "execution_count": 14,
     "metadata": {},
     "output_type": "execute_result"
    }
   ],
   "source": [
    "df1_new.shape"
   ]
  },
  {
   "cell_type": "markdown",
   "metadata": {},
   "source": [
    "### Hypothesis#1: \n",
    "#### Men are 2x more likely to have a heart attack than women."
   ]
  },
  {
   "cell_type": "code",
   "execution_count": 15,
   "metadata": {},
   "outputs": [],
   "source": [
    "# Select just female's Data_Value\n",
    "\n",
    "df1_new_female=df1_new.loc[df1_new['Gender']=='Female']"
   ]
  },
  {
   "cell_type": "code",
   "execution_count": 16,
   "metadata": {},
   "outputs": [
    {
     "data": {
      "text/html": [
       "<div>\n",
       "<style scoped>\n",
       "    .dataframe tbody tr th:only-of-type {\n",
       "        vertical-align: middle;\n",
       "    }\n",
       "\n",
       "    .dataframe tbody tr th {\n",
       "        vertical-align: top;\n",
       "    }\n",
       "\n",
       "    .dataframe thead th {\n",
       "        text-align: right;\n",
       "    }\n",
       "</style>\n",
       "<table border=\"1\" class=\"dataframe\">\n",
       "  <thead>\n",
       "    <tr style=\"text-align: right;\">\n",
       "      <th></th>\n",
       "      <th>Year</th>\n",
       "      <th>State</th>\n",
       "      <th>County</th>\n",
       "      <th>Class</th>\n",
       "      <th>Topic</th>\n",
       "      <th>Data_Value</th>\n",
       "      <th>Data_Value_Unit</th>\n",
       "      <th>Gender</th>\n",
       "      <th>Ethnicity</th>\n",
       "    </tr>\n",
       "  </thead>\n",
       "  <tbody>\n",
       "    <tr>\n",
       "      <th>59059</th>\n",
       "      <td>2016</td>\n",
       "      <td>WA</td>\n",
       "      <td>Lincoln County</td>\n",
       "      <td>Cardiovascular Diseases</td>\n",
       "      <td>Heart Disease Mortality</td>\n",
       "      <td>247.7</td>\n",
       "      <td>per 100,000 population</td>\n",
       "      <td>Female</td>\n",
       "      <td>American Indian and Alaskan Native</td>\n",
       "    </tr>\n",
       "    <tr>\n",
       "      <th>59070</th>\n",
       "      <td>2016</td>\n",
       "      <td>VA</td>\n",
       "      <td>Middlesex County</td>\n",
       "      <td>Cardiovascular Diseases</td>\n",
       "      <td>Heart Disease Mortality</td>\n",
       "      <td>242.6</td>\n",
       "      <td>per 100,000 population</td>\n",
       "      <td>Female</td>\n",
       "      <td>Overall</td>\n",
       "    </tr>\n",
       "    <tr>\n",
       "      <th>59071</th>\n",
       "      <td>2016</td>\n",
       "      <td>VA</td>\n",
       "      <td>Lynchburg City</td>\n",
       "      <td>Cardiovascular Diseases</td>\n",
       "      <td>Heart Disease Mortality</td>\n",
       "      <td>270.9</td>\n",
       "      <td>per 100,000 population</td>\n",
       "      <td>Female</td>\n",
       "      <td>Overall</td>\n",
       "    </tr>\n",
       "    <tr>\n",
       "      <th>59075</th>\n",
       "      <td>2016</td>\n",
       "      <td>UT</td>\n",
       "      <td>Carbon County</td>\n",
       "      <td>Cardiovascular Diseases</td>\n",
       "      <td>Heart Disease Mortality</td>\n",
       "      <td>370.1</td>\n",
       "      <td>per 100,000 population</td>\n",
       "      <td>Female</td>\n",
       "      <td>Overall</td>\n",
       "    </tr>\n",
       "    <tr>\n",
       "      <th>59080</th>\n",
       "      <td>2016</td>\n",
       "      <td>UT</td>\n",
       "      <td>Utah</td>\n",
       "      <td>Cardiovascular Diseases</td>\n",
       "      <td>Heart Disease Mortality</td>\n",
       "      <td>194.1</td>\n",
       "      <td>per 100,000 population</td>\n",
       "      <td>Female</td>\n",
       "      <td>American Indian and Alaskan Native</td>\n",
       "    </tr>\n",
       "  </tbody>\n",
       "</table>\n",
       "</div>"
      ],
      "text/plain": [
       "       Year State            County                    Class  \\\n",
       "59059  2016    WA    Lincoln County  Cardiovascular Diseases   \n",
       "59070  2016    VA  Middlesex County  Cardiovascular Diseases   \n",
       "59071  2016    VA    Lynchburg City  Cardiovascular Diseases   \n",
       "59075  2016    UT     Carbon County  Cardiovascular Diseases   \n",
       "59080  2016    UT              Utah  Cardiovascular Diseases   \n",
       "\n",
       "                         Topic  Data_Value         Data_Value_Unit  Gender  \\\n",
       "59059  Heart Disease Mortality       247.7  per 100,000 population  Female   \n",
       "59070  Heart Disease Mortality       242.6  per 100,000 population  Female   \n",
       "59071  Heart Disease Mortality       270.9  per 100,000 population  Female   \n",
       "59075  Heart Disease Mortality       370.1  per 100,000 population  Female   \n",
       "59080  Heart Disease Mortality       194.1  per 100,000 population  Female   \n",
       "\n",
       "                                Ethnicity  \n",
       "59059  American Indian and Alaskan Native  \n",
       "59070                             Overall  \n",
       "59071                             Overall  \n",
       "59075                             Overall  \n",
       "59080  American Indian and Alaskan Native  "
      ]
     },
     "execution_count": 16,
     "metadata": {},
     "output_type": "execute_result"
    }
   ],
   "source": [
    "df1_new_female.tail()"
   ]
  },
  {
   "cell_type": "code",
   "execution_count": 17,
   "metadata": {},
   "outputs": [
    {
     "name": "stdout",
     "output_type": "stream",
     "text": [
      "2761181.1\n"
     ]
    }
   ],
   "source": [
    "# Total number of women died from heart disease in 2016\n",
    "\n",
    "total_female = df1_new_female['Data_Value'].sum()\n",
    "print(total_female)"
   ]
  },
  {
   "cell_type": "code",
   "execution_count": 18,
   "metadata": {},
   "outputs": [
    {
     "name": "stdout",
     "output_type": "stream",
     "text": [
      "273.303\n"
     ]
    }
   ],
   "source": [
    "# Average number of women died from heart disease in 2016\n",
    "\n",
    "mean_female = df1_new_female['Data_Value'].mean()\n",
    "print(round(mean_female,3))"
   ]
  },
  {
   "cell_type": "code",
   "execution_count": 19,
   "metadata": {},
   "outputs": [],
   "source": [
    "#df1_new_female.describe()\n"
   ]
  },
  {
   "cell_type": "code",
   "execution_count": 20,
   "metadata": {},
   "outputs": [],
   "source": [
    "# Select just male's Data_Value\n",
    "\n",
    "df1_new_men=df1_new.loc[df1_new['Gender']=='Male']"
   ]
  },
  {
   "cell_type": "code",
   "execution_count": 21,
   "metadata": {},
   "outputs": [
    {
     "data": {
      "text/html": [
       "<div>\n",
       "<style scoped>\n",
       "    .dataframe tbody tr th:only-of-type {\n",
       "        vertical-align: middle;\n",
       "    }\n",
       "\n",
       "    .dataframe tbody tr th {\n",
       "        vertical-align: top;\n",
       "    }\n",
       "\n",
       "    .dataframe thead th {\n",
       "        text-align: right;\n",
       "    }\n",
       "</style>\n",
       "<table border=\"1\" class=\"dataframe\">\n",
       "  <thead>\n",
       "    <tr style=\"text-align: right;\">\n",
       "      <th></th>\n",
       "      <th>Year</th>\n",
       "      <th>State</th>\n",
       "      <th>County</th>\n",
       "      <th>Class</th>\n",
       "      <th>Topic</th>\n",
       "      <th>Data_Value</th>\n",
       "      <th>Data_Value_Unit</th>\n",
       "      <th>Gender</th>\n",
       "      <th>Ethnicity</th>\n",
       "    </tr>\n",
       "  </thead>\n",
       "  <tbody>\n",
       "    <tr>\n",
       "      <th>1</th>\n",
       "      <td>2016</td>\n",
       "      <td>CA</td>\n",
       "      <td>Alameda County</td>\n",
       "      <td>Cardiovascular Diseases</td>\n",
       "      <td>Heart Disease Mortality</td>\n",
       "      <td>175.0</td>\n",
       "      <td>per 100,000 population</td>\n",
       "      <td>Male</td>\n",
       "      <td>Asian and Pacific Islander</td>\n",
       "    </tr>\n",
       "    <tr>\n",
       "      <th>2</th>\n",
       "      <td>2016</td>\n",
       "      <td>FL</td>\n",
       "      <td>Volusia County</td>\n",
       "      <td>Cardiovascular Diseases</td>\n",
       "      <td>Heart Disease Mortality</td>\n",
       "      <td>186.0</td>\n",
       "      <td>per 100,000 population</td>\n",
       "      <td>Male</td>\n",
       "      <td>Asian and Pacific Islander</td>\n",
       "    </tr>\n",
       "    <tr>\n",
       "      <th>3</th>\n",
       "      <td>2016</td>\n",
       "      <td>ID</td>\n",
       "      <td>Idaho</td>\n",
       "      <td>Cardiovascular Diseases</td>\n",
       "      <td>Heart Disease Mortality</td>\n",
       "      <td>387.1</td>\n",
       "      <td>per 100,000 population</td>\n",
       "      <td>Male</td>\n",
       "      <td>Overall</td>\n",
       "    </tr>\n",
       "    <tr>\n",
       "      <th>5</th>\n",
       "      <td>2016</td>\n",
       "      <td>IL</td>\n",
       "      <td>Illinois</td>\n",
       "      <td>Cardiovascular Diseases</td>\n",
       "      <td>Heart Disease Mortality</td>\n",
       "      <td>204.9</td>\n",
       "      <td>per 100,000 population</td>\n",
       "      <td>Male</td>\n",
       "      <td>Hispanic</td>\n",
       "    </tr>\n",
       "    <tr>\n",
       "      <th>6</th>\n",
       "      <td>2016</td>\n",
       "      <td>KY</td>\n",
       "      <td>Kentucky</td>\n",
       "      <td>Cardiovascular Diseases</td>\n",
       "      <td>Heart Disease Mortality</td>\n",
       "      <td>487.0</td>\n",
       "      <td>per 100,000 population</td>\n",
       "      <td>Male</td>\n",
       "      <td>Overall</td>\n",
       "    </tr>\n",
       "  </tbody>\n",
       "</table>\n",
       "</div>"
      ],
      "text/plain": [
       "   Year State          County                    Class  \\\n",
       "1  2016    CA  Alameda County  Cardiovascular Diseases   \n",
       "2  2016    FL  Volusia County  Cardiovascular Diseases   \n",
       "3  2016    ID           Idaho  Cardiovascular Diseases   \n",
       "5  2016    IL        Illinois  Cardiovascular Diseases   \n",
       "6  2016    KY        Kentucky  Cardiovascular Diseases   \n",
       "\n",
       "                     Topic  Data_Value         Data_Value_Unit Gender  \\\n",
       "1  Heart Disease Mortality       175.0  per 100,000 population   Male   \n",
       "2  Heart Disease Mortality       186.0  per 100,000 population   Male   \n",
       "3  Heart Disease Mortality       387.1  per 100,000 population   Male   \n",
       "5  Heart Disease Mortality       204.9  per 100,000 population   Male   \n",
       "6  Heart Disease Mortality       487.0  per 100,000 population   Male   \n",
       "\n",
       "                    Ethnicity  \n",
       "1  Asian and Pacific Islander  \n",
       "2  Asian and Pacific Islander  \n",
       "3                     Overall  \n",
       "5                    Hispanic  \n",
       "6                     Overall  "
      ]
     },
     "execution_count": 21,
     "metadata": {},
     "output_type": "execute_result"
    }
   ],
   "source": [
    "df1_new_men.head()"
   ]
  },
  {
   "cell_type": "code",
   "execution_count": 22,
   "metadata": {},
   "outputs": [
    {
     "name": "stdout",
     "output_type": "stream",
     "text": [
      "4488391.8\n"
     ]
    }
   ],
   "source": [
    "# Total number of men  died from heart disease in 2016\n",
    "\n",
    "total_men = df1_new_men['Data_Value'].sum()\n",
    "print(total_men)"
   ]
  },
  {
   "cell_type": "code",
   "execution_count": 23,
   "metadata": {},
   "outputs": [
    {
     "name": "stdout",
     "output_type": "stream",
     "text": [
      "427.384\n"
     ]
    }
   ],
   "source": [
    "# Average number of men  died from heart disease in 2016\n",
    "\n",
    "mean_men = df1_new_men['Data_Value'].mean()\n",
    "print(round(mean_men,3))"
   ]
  },
  {
   "cell_type": "code",
   "execution_count": 24,
   "metadata": {},
   "outputs": [],
   "source": [
    "#df1_new_men.describe()"
   ]
  },
  {
   "cell_type": "code",
   "execution_count": 25,
   "metadata": {},
   "outputs": [],
   "source": [
    "# Create a new dataframe from the average of the Data_value from men and women for heart disease mortality.\n",
    "\n",
    "data = [['Female', mean_female], ['Men', mean_men]]\n",
    "\n",
    "df_Hypo_1 = pd.DataFrame(data, columns = ['Sex', 'Mean_heart']) "
   ]
  },
  {
   "cell_type": "code",
   "execution_count": 26,
   "metadata": {},
   "outputs": [
    {
     "data": {
      "text/plain": [
       "Text(0, 0.5, 'Mean_Heart_Disease')"
      ]
     },
     "execution_count": 26,
     "metadata": {},
     "output_type": "execute_result"
    },
    {
     "data": {
      "image/png": "[encoded data removed]",
      "text/plain": [
       "<Figure size 504x720 with 1 Axes>"
      ]
     },
     "metadata": {
      "needs_background": "light"
     },
     "output_type": "display_data"
    }
   ],
   "source": [
    "# Graph the average Heart disease mortality in 2016.\n",
    "\n",
    "df_Hypo_1.plot(kind='bar',x='Sex', y='Mean_heart', figsize=(7, 10))\n",
    "plt.xlabel('Sex', fontweight='bold', color = 'orange', fontsize='15')\n",
    "plt.ylabel('Mean_Heart_Disease', fontweight='bold', color = 'orange', fontsize='17')"
   ]
  },
  {
   "cell_type": "code",
   "execution_count": 27,
   "metadata": {},
   "outputs": [],
   "source": [
    "# Create a new dataframe from the sum of the Data_value for each gender heart disease mortality.\n",
    "\n",
    "total_data = [['Female', total_female ], ['Men', total_men]]\n",
    "\n",
    "df1_Hypo_1 = pd.DataFrame(total_data, columns = ['Sex', 'Heart_disease']) \n"
   ]
  },
  {
   "cell_type": "code",
   "execution_count": 28,
   "metadata": {},
   "outputs": [
    {
     "data": {
      "text/plain": [
       "Text(0, 0.5, 'Heart_disease_mortality')"
      ]
     },
     "execution_count": 28,
     "metadata": {},
     "output_type": "execute_result"
    },
    {
     "data": {
      "image/png": "[encoded data removed]",
      "text/plain": [
       "<Figure size 504x720 with 1 Axes>"
      ]
     },
     "metadata": {
      "needs_background": "light"
     },
     "output_type": "display_data"
    }
   ],
   "source": [
    "# Graph Heart disease mortality in 2016.\n",
    "\n",
    "df1_Hypo_1.plot(kind='bar',x='Sex', y='Heart_disease', figsize=(7, 10))\n",
    "plt.xlabel('Sex', fontweight='bold', color = 'orange', fontsize='15')\n",
    "plt.ylabel('Heart_disease_mortality', fontweight='bold', color = 'orange', fontsize='17')"
   ]
  },
  {
   "cell_type": "code",
   "execution_count": 29,
   "metadata": {},
   "outputs": [
    {
     "name": "stdout",
     "output_type": "stream",
     "text": [
      "23.82 %\n"
     ]
    }
   ],
   "source": [
    "# difference in rate of mortality due to heart disease between men and women Using the full numbers\n",
    "\n",
    "total_heart = total_female + total_men\n",
    "percentage_female = (total_female/total_heart)*100\n",
    "percentage_men = (total_men/total_heart)*100\n",
    "print(round((percentage_men - percentage_female),2),'%')"
   ]
  },
  {
   "cell_type": "markdown",
   "metadata": {},
   "source": [
    "### Conclusion Hypothesis#1: \n",
    "#### Men are 2x more likely to have a heart attack than women. Was not verified.\n",
    "#### From the calculations it results that in 2016. 23.82% more men had died from hearth disease than women."
   ]
  },
  {
   "cell_type": "markdown",
   "metadata": {},
   "source": [
    "### Hypothesis#2\n",
    "#### Women are more likely to have a stroke than men, around 40/30."
   ]
  },
  {
   "cell_type": "code",
   "execution_count": 30,
   "metadata": {},
   "outputs": [
    {
     "data": {
      "text/html": [
       "<div>\n",
       "<style scoped>\n",
       "    .dataframe tbody tr th:only-of-type {\n",
       "        vertical-align: middle;\n",
       "    }\n",
       "\n",
       "    .dataframe tbody tr th {\n",
       "        vertical-align: top;\n",
       "    }\n",
       "\n",
       "    .dataframe thead th {\n",
       "        text-align: right;\n",
       "    }\n",
       "</style>\n",
       "<table border=\"1\" class=\"dataframe\">\n",
       "  <thead>\n",
       "    <tr style=\"text-align: right;\">\n",
       "      <th></th>\n",
       "      <th>Year</th>\n",
       "      <th>LocationAbbr</th>\n",
       "      <th>LocationDesc</th>\n",
       "      <th>Class</th>\n",
       "      <th>Topic</th>\n",
       "      <th>Data_Value</th>\n",
       "      <th>Data_Value_Unit</th>\n",
       "      <th>Stratification1</th>\n",
       "      <th>Stratification2</th>\n",
       "    </tr>\n",
       "  </thead>\n",
       "  <tbody>\n",
       "    <tr>\n",
       "      <th>0</th>\n",
       "      <td>2016</td>\n",
       "      <td>AZ</td>\n",
       "      <td>Arizona</td>\n",
       "      <td>Cardiovascular Diseases</td>\n",
       "      <td>Stroke Mortality</td>\n",
       "      <td>58.3</td>\n",
       "      <td>per 100,000 population</td>\n",
       "      <td>Female</td>\n",
       "      <td>Hispanic</td>\n",
       "    </tr>\n",
       "    <tr>\n",
       "      <th>1</th>\n",
       "      <td>2016</td>\n",
       "      <td>GA</td>\n",
       "      <td>Georgia</td>\n",
       "      <td>Cardiovascular Diseases</td>\n",
       "      <td>Stroke Mortality</td>\n",
       "      <td>81.0</td>\n",
       "      <td>per 100,000 population</td>\n",
       "      <td>Female</td>\n",
       "      <td>White</td>\n",
       "    </tr>\n",
       "  </tbody>\n",
       "</table>\n",
       "</div>"
      ],
      "text/plain": [
       "   Year LocationAbbr LocationDesc                    Class             Topic  \\\n",
       "0  2016           AZ      Arizona  Cardiovascular Diseases  Stroke Mortality   \n",
       "1  2016           GA      Georgia  Cardiovascular Diseases  Stroke Mortality   \n",
       "\n",
       "   Data_Value         Data_Value_Unit Stratification1 Stratification2  \n",
       "0        58.3  per 100,000 population          Female        Hispanic  \n",
       "1        81.0  per 100,000 population          Female           White  "
      ]
     },
     "execution_count": 30,
     "metadata": {},
     "output_type": "execute_result"
    }
   ],
   "source": [
    "# Select the columns we will be using from Stroke dataset\n",
    "\n",
    "df2_a = df2[['Year','LocationAbbr','LocationDesc','Class','Topic','Data_Value', 'Data_Value_Unit','Stratification1', 'Stratification2']]\n",
    "\n",
    "df2_a.head(2)"
   ]
  },
  {
   "cell_type": "code",
   "execution_count": 31,
   "metadata": {},
   "outputs": [],
   "source": [
    "# Rename the columns for stroke disease\n",
    "df2_rename = df2_a.rename(columns={'LocationAbbr':'State', 'LocationDesc':'County', 'Stratification1':'Gender', 'Stratification2':'Ethnicity' })\n"
   ]
  },
  {
   "cell_type": "code",
   "execution_count": 32,
   "metadata": {},
   "outputs": [
    {
     "data": {
      "text/html": [
       "<div>\n",
       "<style scoped>\n",
       "    .dataframe tbody tr th:only-of-type {\n",
       "        vertical-align: middle;\n",
       "    }\n",
       "\n",
       "    .dataframe tbody tr th {\n",
       "        vertical-align: top;\n",
       "    }\n",
       "\n",
       "    .dataframe thead th {\n",
       "        text-align: right;\n",
       "    }\n",
       "</style>\n",
       "<table border=\"1\" class=\"dataframe\">\n",
       "  <thead>\n",
       "    <tr style=\"text-align: right;\">\n",
       "      <th></th>\n",
       "      <th>Year</th>\n",
       "      <th>State</th>\n",
       "      <th>County</th>\n",
       "      <th>Class</th>\n",
       "      <th>Topic</th>\n",
       "      <th>Data_Value</th>\n",
       "      <th>Data_Value_Unit</th>\n",
       "      <th>Gender</th>\n",
       "      <th>Ethnicity</th>\n",
       "    </tr>\n",
       "  </thead>\n",
       "  <tbody>\n",
       "    <tr>\n",
       "      <th>0</th>\n",
       "      <td>2016</td>\n",
       "      <td>AZ</td>\n",
       "      <td>Arizona</td>\n",
       "      <td>Cardiovascular Diseases</td>\n",
       "      <td>Stroke Mortality</td>\n",
       "      <td>58.3</td>\n",
       "      <td>per 100,000 population</td>\n",
       "      <td>Female</td>\n",
       "      <td>Hispanic</td>\n",
       "    </tr>\n",
       "    <tr>\n",
       "      <th>1</th>\n",
       "      <td>2016</td>\n",
       "      <td>GA</td>\n",
       "      <td>Georgia</td>\n",
       "      <td>Cardiovascular Diseases</td>\n",
       "      <td>Stroke Mortality</td>\n",
       "      <td>81.0</td>\n",
       "      <td>per 100,000 population</td>\n",
       "      <td>Female</td>\n",
       "      <td>White</td>\n",
       "    </tr>\n",
       "  </tbody>\n",
       "</table>\n",
       "</div>"
      ],
      "text/plain": [
       "   Year State   County                    Class             Topic  Data_Value  \\\n",
       "0  2016    AZ  Arizona  Cardiovascular Diseases  Stroke Mortality        58.3   \n",
       "1  2016    GA  Georgia  Cardiovascular Diseases  Stroke Mortality        81.0   \n",
       "\n",
       "          Data_Value_Unit  Gender Ethnicity  \n",
       "0  per 100,000 population  Female  Hispanic  \n",
       "1  per 100,000 population  Female     White  "
      ]
     },
     "execution_count": 32,
     "metadata": {},
     "output_type": "execute_result"
    }
   ],
   "source": [
    "df2_rename.head(2)"
   ]
  },
  {
   "cell_type": "code",
   "execution_count": 33,
   "metadata": {},
   "outputs": [
    {
     "data": {
      "text/plain": [
       "(59094, 9)"
      ]
     },
     "execution_count": 33,
     "metadata": {},
     "output_type": "execute_result"
    }
   ],
   "source": [
    "df2_rename.shape"
   ]
  },
  {
   "cell_type": "code",
   "execution_count": 34,
   "metadata": {},
   "outputs": [],
   "source": [
    "#Drop the non value in the Data_value column\n",
    "df2_new = df2_rename.dropna(subset=['Data_Value'])"
   ]
  },
  {
   "cell_type": "code",
   "execution_count": 35,
   "metadata": {},
   "outputs": [
    {
     "data": {
      "text/plain": [
       "(27996, 9)"
      ]
     },
     "execution_count": 35,
     "metadata": {},
     "output_type": "execute_result"
    }
   ],
   "source": [
    "df2_new.shape"
   ]
  },
  {
   "cell_type": "code",
   "execution_count": 37,
   "metadata": {},
   "outputs": [],
   "source": [
    "# Select just female Data_Value\n",
    "\n",
    "df2_new_female=df2_new.loc[df2_new['Gender']=='Female']"
   ]
  },
  {
   "cell_type": "code",
   "execution_count": 38,
   "metadata": {},
   "outputs": [
    {
     "data": {
      "text/html": [
       "<div>\n",
       "<style scoped>\n",
       "    .dataframe tbody tr th:only-of-type {\n",
       "        vertical-align: middle;\n",
       "    }\n",
       "\n",
       "    .dataframe tbody tr th {\n",
       "        vertical-align: top;\n",
       "    }\n",
       "\n",
       "    .dataframe thead th {\n",
       "        text-align: right;\n",
       "    }\n",
       "</style>\n",
       "<table border=\"1\" class=\"dataframe\">\n",
       "  <thead>\n",
       "    <tr style=\"text-align: right;\">\n",
       "      <th></th>\n",
       "      <th>Year</th>\n",
       "      <th>State</th>\n",
       "      <th>County</th>\n",
       "      <th>Class</th>\n",
       "      <th>Topic</th>\n",
       "      <th>Data_Value</th>\n",
       "      <th>Data_Value_Unit</th>\n",
       "      <th>Gender</th>\n",
       "      <th>Ethnicity</th>\n",
       "    </tr>\n",
       "  </thead>\n",
       "  <tbody>\n",
       "    <tr>\n",
       "      <th>59080</th>\n",
       "      <td>2016</td>\n",
       "      <td>VT</td>\n",
       "      <td>Grand Isle County</td>\n",
       "      <td>Cardiovascular Diseases</td>\n",
       "      <td>Stroke Mortality</td>\n",
       "      <td>59.2</td>\n",
       "      <td>per 100,000 population</td>\n",
       "      <td>Female</td>\n",
       "      <td>White</td>\n",
       "    </tr>\n",
       "    <tr>\n",
       "      <th>59090</th>\n",
       "      <td>2016</td>\n",
       "      <td>WV</td>\n",
       "      <td>West Virginia</td>\n",
       "      <td>Cardiovascular Diseases</td>\n",
       "      <td>Stroke Mortality</td>\n",
       "      <td>82.5</td>\n",
       "      <td>per 100,000 population</td>\n",
       "      <td>Female</td>\n",
       "      <td>White</td>\n",
       "    </tr>\n",
       "  </tbody>\n",
       "</table>\n",
       "</div>"
      ],
      "text/plain": [
       "       Year State             County                    Class  \\\n",
       "59080  2016    VT  Grand Isle County  Cardiovascular Diseases   \n",
       "59090  2016    WV      West Virginia  Cardiovascular Diseases   \n",
       "\n",
       "                  Topic  Data_Value         Data_Value_Unit  Gender Ethnicity  \n",
       "59080  Stroke Mortality        59.2  per 100,000 population  Female     White  \n",
       "59090  Stroke Mortality        82.5  per 100,000 population  Female     White  "
      ]
     },
     "execution_count": 38,
     "metadata": {},
     "output_type": "execute_result"
    }
   ],
   "source": [
    "df2_new_female.tail(2)"
   ]
  },
  {
   "cell_type": "code",
   "execution_count": 39,
   "metadata": {},
   "outputs": [],
   "source": [
    "#df2_new_female.describe()"
   ]
  },
  {
   "cell_type": "code",
   "execution_count": 40,
   "metadata": {},
   "outputs": [
    {
     "name": "stdout",
     "output_type": "stream",
     "text": [
      "703139.7\n"
     ]
    }
   ],
   "source": [
    "# Total number of women died from stroke in 2016\n",
    "\n",
    "stroke_total_female = df2_new_female['Data_Value'].sum()\n",
    "print(stroke_total_female)"
   ]
  },
  {
   "cell_type": "code",
   "execution_count": 41,
   "metadata": {},
   "outputs": [
    {
     "name": "stdout",
     "output_type": "stream",
     "text": [
      "77.43\n"
     ]
    }
   ],
   "source": [
    "# Total number of men died from stroke in 2016\n",
    "\n",
    "stroke_mean_female = df2_new_female['Data_Value'].mean()\n",
    "print(round(stroke_mean_female,2))"
   ]
  },
  {
   "cell_type": "code",
   "execution_count": 42,
   "metadata": {},
   "outputs": [],
   "source": [
    "# Select just male Data_Value\n",
    "\n",
    "df2_new_men=df2_new.loc[df2_new['Gender']=='Male']"
   ]
  },
  {
   "cell_type": "code",
   "execution_count": 43,
   "metadata": {},
   "outputs": [
    {
     "data": {
      "text/html": [
       "<div>\n",
       "<style scoped>\n",
       "    .dataframe tbody tr th:only-of-type {\n",
       "        vertical-align: middle;\n",
       "    }\n",
       "\n",
       "    .dataframe tbody tr th {\n",
       "        vertical-align: top;\n",
       "    }\n",
       "\n",
       "    .dataframe thead th {\n",
       "        text-align: right;\n",
       "    }\n",
       "</style>\n",
       "<table border=\"1\" class=\"dataframe\">\n",
       "  <thead>\n",
       "    <tr style=\"text-align: right;\">\n",
       "      <th></th>\n",
       "      <th>Year</th>\n",
       "      <th>State</th>\n",
       "      <th>County</th>\n",
       "      <th>Class</th>\n",
       "      <th>Topic</th>\n",
       "      <th>Data_Value</th>\n",
       "      <th>Data_Value_Unit</th>\n",
       "      <th>Gender</th>\n",
       "      <th>Ethnicity</th>\n",
       "    </tr>\n",
       "  </thead>\n",
       "  <tbody>\n",
       "    <tr>\n",
       "      <th>59077</th>\n",
       "      <td>2016</td>\n",
       "      <td>WA</td>\n",
       "      <td>Lincoln County</td>\n",
       "      <td>Cardiovascular Diseases</td>\n",
       "      <td>Stroke Mortality</td>\n",
       "      <td>81.0</td>\n",
       "      <td>per 100,000 population</td>\n",
       "      <td>Male</td>\n",
       "      <td>Overall</td>\n",
       "    </tr>\n",
       "    <tr>\n",
       "      <th>59092</th>\n",
       "      <td>2016</td>\n",
       "      <td>VA</td>\n",
       "      <td>Danville City</td>\n",
       "      <td>Cardiovascular Diseases</td>\n",
       "      <td>Stroke Mortality</td>\n",
       "      <td>111.5</td>\n",
       "      <td>per 100,000 population</td>\n",
       "      <td>Male</td>\n",
       "      <td>Black</td>\n",
       "    </tr>\n",
       "  </tbody>\n",
       "</table>\n",
       "</div>"
      ],
      "text/plain": [
       "       Year State          County                    Class             Topic  \\\n",
       "59077  2016    WA  Lincoln County  Cardiovascular Diseases  Stroke Mortality   \n",
       "59092  2016    VA   Danville City  Cardiovascular Diseases  Stroke Mortality   \n",
       "\n",
       "       Data_Value         Data_Value_Unit Gender Ethnicity  \n",
       "59077        81.0  per 100,000 population   Male   Overall  \n",
       "59092       111.5  per 100,000 population   Male     Black  "
      ]
     },
     "execution_count": 43,
     "metadata": {},
     "output_type": "execute_result"
    }
   ],
   "source": [
    "df2_new_men.tail(2)"
   ]
  },
  {
   "cell_type": "code",
   "execution_count": 44,
   "metadata": {},
   "outputs": [],
   "source": [
    "#df2_new_men.describe()"
   ]
  },
  {
   "cell_type": "code",
   "execution_count": 45,
   "metadata": {},
   "outputs": [
    {
     "name": "stdout",
     "output_type": "stream",
     "text": [
      "728131.2\n"
     ]
    }
   ],
   "source": [
    "# Total number of men died from stroke in 2016\n",
    "\n",
    "stroke_total_men = df2_new_men['Data_Value'].sum()\n",
    "print(round(stroke_total_men,3))"
   ]
  },
  {
   "cell_type": "code",
   "execution_count": 46,
   "metadata": {},
   "outputs": [
    {
     "name": "stdout",
     "output_type": "stream",
     "text": [
      "81.84\n"
     ]
    }
   ],
   "source": [
    "# Average number of men died from stroke in 2016\n",
    "\n",
    "stroke_mean_men = df2_new_men['Data_Value'].mean()\n",
    "print(round(stroke_mean_men,3))"
   ]
  },
  {
   "cell_type": "code",
   "execution_count": 47,
   "metadata": {},
   "outputs": [],
   "source": [
    "# Create a new dataframe from the means of the Data_value from men and women for stroke .\n",
    "\n",
    "data_stroke = [['Female', stroke_mean_female], ['Male', stroke_mean_men]]\n",
    "\n",
    "df_Hypo_2 = pd.DataFrame(data_stroke, columns = ['Sex', 'Mean_stroke']) "
   ]
  },
  {
   "cell_type": "code",
   "execution_count": 48,
   "metadata": {},
   "outputs": [
    {
     "data": {
      "text/plain": [
       "Text(0, 0.5, 'Mean_stroke')"
      ]
     },
     "execution_count": 48,
     "metadata": {},
     "output_type": "execute_result"
    },
    {
     "data": {
      "image/png": "[encoded data removed]",
      "text/plain": [
       "<Figure size 504x720 with 1 Axes>"
      ]
     },
     "metadata": {
      "needs_background": "light"
     },
     "output_type": "display_data"
    }
   ],
   "source": [
    "# Graph adults average stroke mortality in 2016.\n",
    "\n",
    "df_Hypo_2.plot(kind='bar',x='Sex', y='Mean_stroke', figsize=(7, 10))\n",
    "plt.xlabel('Sex', fontweight='bold', color = 'orange', fontsize='15')\n",
    "plt.ylabel('Mean_stroke', fontweight='bold', color = 'orange', fontsize='17')"
   ]
  },
  {
   "cell_type": "code",
   "execution_count": 49,
   "metadata": {},
   "outputs": [],
   "source": [
    "# Create a new dataframe from the sum of the Data_value for each gender stroke mortality.\n",
    "\n",
    "stroke_total_data = [['Female', stroke_total_female ], ['Male', stroke_total_men]]\n",
    "\n",
    "df2_Hypo2_stroke = pd.DataFrame(stroke_total_data, columns = ['Sex', 'Stroke_total']) "
   ]
  },
  {
   "cell_type": "code",
   "execution_count": 50,
   "metadata": {},
   "outputs": [
    {
     "data": {
      "text/plain": [
       "Text(0, 0.5, 'Total_stroke_mortality')"
      ]
     },
     "execution_count": 50,
     "metadata": {},
     "output_type": "execute_result"
    },
    {
     "data": {
      "image/png": "[encoded data removed]",
      "text/plain": [
       "<Figure size 504x720 with 1 Axes>"
      ]
     },
     "metadata": {
      "needs_background": "light"
     },
     "output_type": "display_data"
    }
   ],
   "source": [
    "# Graph adults total stroke mortality by gender in 2016.\n",
    "\n",
    "df2_Hypo2_stroke.plot(kind='bar',x='Sex', y='Stroke_total', figsize=(7,10))\n",
    "plt.xlabel('Sex', fontweight='bold', color = 'orange', fontsize='15')\n",
    "plt.ylabel('Total_stroke_mortality', fontweight='bold', color = 'orange', fontsize='17')\n",
    "#plt.legend('Stroke mortality by gender')"
   ]
  },
  {
   "cell_type": "code",
   "execution_count": 51,
   "metadata": {},
   "outputs": [
    {
     "name": "stdout",
     "output_type": "stream",
     "text": [
      "1.75 %\n"
     ]
    }
   ],
   "source": [
    "# difference in rate of mortality due to stroke between men and women Using the full numbers\n",
    "\n",
    "total_stroke = stroke_total_female + stroke_total_men\n",
    "percent_female = (stroke_total_female/total_stroke)*100\n",
    "percent_men = (stroke_total_men/total_stroke)*100\n",
    "print(round((percent_men - percent_female),2),'%')"
   ]
  },
  {
   "cell_type": "markdown",
   "metadata": {},
   "source": [
    "### Conclusion Hypothesis#2: \n",
    "#### The hypothesis that Women are more likely to have a stroke than men, around 40/30, was not verified. Came out that in 2016\n",
    "#### more men died from stroke than women. Around 1.75% more Male than Female."
   ]
  },
  {
   "cell_type": "markdown",
   "metadata": {},
   "source": [
    "### Hypothesis#3:\n",
    "#### Blacks are 10%-15% more likely to have a heart attack than other ethnicities."
   ]
  },
  {
   "cell_type": "code",
   "execution_count": 52,
   "metadata": {},
   "outputs": [
    {
     "data": {
      "text/html": [
       "<div>\n",
       "<style scoped>\n",
       "    .dataframe tbody tr th:only-of-type {\n",
       "        vertical-align: middle;\n",
       "    }\n",
       "\n",
       "    .dataframe tbody tr th {\n",
       "        vertical-align: top;\n",
       "    }\n",
       "\n",
       "    .dataframe thead th {\n",
       "        text-align: right;\n",
       "    }\n",
       "</style>\n",
       "<table border=\"1\" class=\"dataframe\">\n",
       "  <thead>\n",
       "    <tr style=\"text-align: right;\">\n",
       "      <th></th>\n",
       "      <th>Year</th>\n",
       "      <th>State</th>\n",
       "      <th>County</th>\n",
       "      <th>Class</th>\n",
       "      <th>Topic</th>\n",
       "      <th>Data_Value</th>\n",
       "      <th>Data_Value_Unit</th>\n",
       "      <th>Gender</th>\n",
       "      <th>Ethnicity</th>\n",
       "    </tr>\n",
       "  </thead>\n",
       "  <tbody>\n",
       "    <tr>\n",
       "      <th>41107</th>\n",
       "      <td>2016</td>\n",
       "      <td>TX</td>\n",
       "      <td>Franklin County</td>\n",
       "      <td>Cardiovascular Diseases</td>\n",
       "      <td>Heart Disease Mortality</td>\n",
       "      <td>157.8</td>\n",
       "      <td>per 100,000 population</td>\n",
       "      <td>Overall</td>\n",
       "      <td>Hispanic</td>\n",
       "    </tr>\n",
       "    <tr>\n",
       "      <th>17068</th>\n",
       "      <td>2016</td>\n",
       "      <td>NE</td>\n",
       "      <td>Dundy County</td>\n",
       "      <td>Cardiovascular Diseases</td>\n",
       "      <td>Heart Disease Mortality</td>\n",
       "      <td>320.3</td>\n",
       "      <td>per 100,000 population</td>\n",
       "      <td>Overall</td>\n",
       "      <td>Overall</td>\n",
       "    </tr>\n",
       "    <tr>\n",
       "      <th>18211</th>\n",
       "      <td>2016</td>\n",
       "      <td>MD</td>\n",
       "      <td>Allegany County</td>\n",
       "      <td>Cardiovascular Diseases</td>\n",
       "      <td>Heart Disease Mortality</td>\n",
       "      <td>336.1</td>\n",
       "      <td>per 100,000 population</td>\n",
       "      <td>Female</td>\n",
       "      <td>Overall</td>\n",
       "    </tr>\n",
       "    <tr>\n",
       "      <th>13393</th>\n",
       "      <td>2016</td>\n",
       "      <td>ID</td>\n",
       "      <td>Idaho County</td>\n",
       "      <td>Cardiovascular Diseases</td>\n",
       "      <td>Heart Disease Mortality</td>\n",
       "      <td>235.7</td>\n",
       "      <td>per 100,000 population</td>\n",
       "      <td>Overall</td>\n",
       "      <td>American Indian and Alaskan Native</td>\n",
       "    </tr>\n",
       "    <tr>\n",
       "      <th>2083</th>\n",
       "      <td>2016</td>\n",
       "      <td>GA</td>\n",
       "      <td>Dooly County</td>\n",
       "      <td>Cardiovascular Diseases</td>\n",
       "      <td>Heart Disease Mortality</td>\n",
       "      <td>504.3</td>\n",
       "      <td>per 100,000 population</td>\n",
       "      <td>Male</td>\n",
       "      <td>Overall</td>\n",
       "    </tr>\n",
       "  </tbody>\n",
       "</table>\n",
       "</div>"
      ],
      "text/plain": [
       "       Year State           County                    Class  \\\n",
       "41107  2016    TX  Franklin County  Cardiovascular Diseases   \n",
       "17068  2016    NE     Dundy County  Cardiovascular Diseases   \n",
       "18211  2016    MD  Allegany County  Cardiovascular Diseases   \n",
       "13393  2016    ID     Idaho County  Cardiovascular Diseases   \n",
       "2083   2016    GA     Dooly County  Cardiovascular Diseases   \n",
       "\n",
       "                         Topic  Data_Value         Data_Value_Unit   Gender  \\\n",
       "41107  Heart Disease Mortality       157.8  per 100,000 population  Overall   \n",
       "17068  Heart Disease Mortality       320.3  per 100,000 population  Overall   \n",
       "18211  Heart Disease Mortality       336.1  per 100,000 population   Female   \n",
       "13393  Heart Disease Mortality       235.7  per 100,000 population  Overall   \n",
       "2083   Heart Disease Mortality       504.3  per 100,000 population     Male   \n",
       "\n",
       "                                Ethnicity  \n",
       "41107                            Hispanic  \n",
       "17068                             Overall  \n",
       "18211                             Overall  \n",
       "13393  American Indian and Alaskan Native  \n",
       "2083                              Overall  "
      ]
     },
     "execution_count": 52,
     "metadata": {},
     "output_type": "execute_result"
    }
   ],
   "source": [
    "df1_new.sample(5)"
   ]
  },
  {
   "cell_type": "code",
   "execution_count": 53,
   "metadata": {},
   "outputs": [
    {
     "data": {
      "text/html": [
       "<div>\n",
       "<style scoped>\n",
       "    .dataframe tbody tr th:only-of-type {\n",
       "        vertical-align: middle;\n",
       "    }\n",
       "\n",
       "    .dataframe tbody tr th {\n",
       "        vertical-align: top;\n",
       "    }\n",
       "\n",
       "    .dataframe thead th {\n",
       "        text-align: right;\n",
       "    }\n",
       "</style>\n",
       "<table border=\"1\" class=\"dataframe\">\n",
       "  <thead>\n",
       "    <tr style=\"text-align: right;\">\n",
       "      <th></th>\n",
       "      <th>Year</th>\n",
       "      <th>State</th>\n",
       "      <th>County</th>\n",
       "      <th>Class</th>\n",
       "      <th>Topic</th>\n",
       "      <th>Data_Value</th>\n",
       "      <th>Data_Value_Unit</th>\n",
       "      <th>Gender</th>\n",
       "      <th>Ethnicity</th>\n",
       "    </tr>\n",
       "  </thead>\n",
       "  <tbody>\n",
       "    <tr>\n",
       "      <th>38126</th>\n",
       "      <td>2016</td>\n",
       "      <td>OR</td>\n",
       "      <td>Oregon</td>\n",
       "      <td>Cardiovascular Diseases</td>\n",
       "      <td>Heart Disease Mortality</td>\n",
       "      <td>186.0</td>\n",
       "      <td>per 100,000 population</td>\n",
       "      <td>Female</td>\n",
       "      <td>Black</td>\n",
       "    </tr>\n",
       "    <tr>\n",
       "      <th>5562</th>\n",
       "      <td>2016</td>\n",
       "      <td>AL</td>\n",
       "      <td>Coosa County</td>\n",
       "      <td>Cardiovascular Diseases</td>\n",
       "      <td>Heart Disease Mortality</td>\n",
       "      <td>595.7</td>\n",
       "      <td>per 100,000 population</td>\n",
       "      <td>Male</td>\n",
       "      <td>Black</td>\n",
       "    </tr>\n",
       "    <tr>\n",
       "      <th>12533</th>\n",
       "      <td>2016</td>\n",
       "      <td>AL</td>\n",
       "      <td>Pike County</td>\n",
       "      <td>Cardiovascular Diseases</td>\n",
       "      <td>Heart Disease Mortality</td>\n",
       "      <td>337.9</td>\n",
       "      <td>per 100,000 population</td>\n",
       "      <td>Female</td>\n",
       "      <td>Black</td>\n",
       "    </tr>\n",
       "    <tr>\n",
       "      <th>5965</th>\n",
       "      <td>2016</td>\n",
       "      <td>GA</td>\n",
       "      <td>Lee County</td>\n",
       "      <td>Cardiovascular Diseases</td>\n",
       "      <td>Heart Disease Mortality</td>\n",
       "      <td>311.8</td>\n",
       "      <td>per 100,000 population</td>\n",
       "      <td>Overall</td>\n",
       "      <td>Black</td>\n",
       "    </tr>\n",
       "    <tr>\n",
       "      <th>4426</th>\n",
       "      <td>2016</td>\n",
       "      <td>CA</td>\n",
       "      <td>Sonoma County</td>\n",
       "      <td>Cardiovascular Diseases</td>\n",
       "      <td>Heart Disease Mortality</td>\n",
       "      <td>315.7</td>\n",
       "      <td>per 100,000 population</td>\n",
       "      <td>Overall</td>\n",
       "      <td>Black</td>\n",
       "    </tr>\n",
       "  </tbody>\n",
       "</table>\n",
       "</div>"
      ],
      "text/plain": [
       "       Year State         County                    Class  \\\n",
       "38126  2016    OR         Oregon  Cardiovascular Diseases   \n",
       "5562   2016    AL   Coosa County  Cardiovascular Diseases   \n",
       "12533  2016    AL    Pike County  Cardiovascular Diseases   \n",
       "5965   2016    GA     Lee County  Cardiovascular Diseases   \n",
       "4426   2016    CA  Sonoma County  Cardiovascular Diseases   \n",
       "\n",
       "                         Topic  Data_Value         Data_Value_Unit   Gender  \\\n",
       "38126  Heart Disease Mortality       186.0  per 100,000 population   Female   \n",
       "5562   Heart Disease Mortality       595.7  per 100,000 population     Male   \n",
       "12533  Heart Disease Mortality       337.9  per 100,000 population   Female   \n",
       "5965   Heart Disease Mortality       311.8  per 100,000 population  Overall   \n",
       "4426   Heart Disease Mortality       315.7  per 100,000 population  Overall   \n",
       "\n",
       "      Ethnicity  \n",
       "38126     Black  \n",
       "5562      Black  \n",
       "12533     Black  \n",
       "5965      Black  \n",
       "4426      Black  "
      ]
     },
     "execution_count": 53,
     "metadata": {},
     "output_type": "execute_result"
    }
   ],
   "source": [
    "# Select Black from Ethnicity\n",
    "\n",
    "df1_new_Black =df1_new.loc[df1_new['Ethnicity']=='Black']\n",
    "df1_new_Black.sample(5)"
   ]
  },
  {
   "cell_type": "code",
   "execution_count": 54,
   "metadata": {},
   "outputs": [
    {
     "data": {
      "text/html": [
       "<div>\n",
       "<style scoped>\n",
       "    .dataframe tbody tr th:only-of-type {\n",
       "        vertical-align: middle;\n",
       "    }\n",
       "\n",
       "    .dataframe tbody tr th {\n",
       "        vertical-align: top;\n",
       "    }\n",
       "\n",
       "    .dataframe thead th {\n",
       "        text-align: right;\n",
       "    }\n",
       "</style>\n",
       "<table border=\"1\" class=\"dataframe\">\n",
       "  <thead>\n",
       "    <tr style=\"text-align: right;\">\n",
       "      <th></th>\n",
       "      <th>Year</th>\n",
       "      <th>State</th>\n",
       "      <th>County</th>\n",
       "      <th>Class</th>\n",
       "      <th>Topic</th>\n",
       "      <th>Data_Value</th>\n",
       "      <th>Data_Value_Unit</th>\n",
       "      <th>Gender</th>\n",
       "      <th>Ethnicity</th>\n",
       "    </tr>\n",
       "  </thead>\n",
       "  <tbody>\n",
       "    <tr>\n",
       "      <th>4</th>\n",
       "      <td>2016</td>\n",
       "      <td>IL</td>\n",
       "      <td>Cook County</td>\n",
       "      <td>Cardiovascular Diseases</td>\n",
       "      <td>Heart Disease Mortality</td>\n",
       "      <td>110.2</td>\n",
       "      <td>per 100,000 population</td>\n",
       "      <td>Female</td>\n",
       "      <td>American Indian and Alaskan Native</td>\n",
       "    </tr>\n",
       "    <tr>\n",
       "      <th>8</th>\n",
       "      <td>2016</td>\n",
       "      <td>MT</td>\n",
       "      <td>Richland County</td>\n",
       "      <td>Cardiovascular Diseases</td>\n",
       "      <td>Heart Disease Mortality</td>\n",
       "      <td>531.5</td>\n",
       "      <td>per 100,000 population</td>\n",
       "      <td>Female</td>\n",
       "      <td>American Indian and Alaskan Native</td>\n",
       "    </tr>\n",
       "    <tr>\n",
       "      <th>11</th>\n",
       "      <td>2016</td>\n",
       "      <td>TX</td>\n",
       "      <td>Collin County</td>\n",
       "      <td>Cardiovascular Diseases</td>\n",
       "      <td>Heart Disease Mortality</td>\n",
       "      <td>160.8</td>\n",
       "      <td>per 100,000 population</td>\n",
       "      <td>Male</td>\n",
       "      <td>American Indian and Alaskan Native</td>\n",
       "    </tr>\n",
       "    <tr>\n",
       "      <th>12</th>\n",
       "      <td>2016</td>\n",
       "      <td>TX</td>\n",
       "      <td>Tarrant County</td>\n",
       "      <td>Cardiovascular Diseases</td>\n",
       "      <td>Heart Disease Mortality</td>\n",
       "      <td>194.2</td>\n",
       "      <td>per 100,000 population</td>\n",
       "      <td>Male</td>\n",
       "      <td>American Indian and Alaskan Native</td>\n",
       "    </tr>\n",
       "    <tr>\n",
       "      <th>47</th>\n",
       "      <td>2016</td>\n",
       "      <td>CO</td>\n",
       "      <td>Colorado</td>\n",
       "      <td>Cardiovascular Diseases</td>\n",
       "      <td>Heart Disease Mortality</td>\n",
       "      <td>295.5</td>\n",
       "      <td>per 100,000 population</td>\n",
       "      <td>Male</td>\n",
       "      <td>American Indian and Alaskan Native</td>\n",
       "    </tr>\n",
       "  </tbody>\n",
       "</table>\n",
       "</div>"
      ],
      "text/plain": [
       "    Year State           County                    Class  \\\n",
       "4   2016    IL      Cook County  Cardiovascular Diseases   \n",
       "8   2016    MT  Richland County  Cardiovascular Diseases   \n",
       "11  2016    TX    Collin County  Cardiovascular Diseases   \n",
       "12  2016    TX   Tarrant County  Cardiovascular Diseases   \n",
       "47  2016    CO         Colorado  Cardiovascular Diseases   \n",
       "\n",
       "                      Topic  Data_Value         Data_Value_Unit  Gender  \\\n",
       "4   Heart Disease Mortality       110.2  per 100,000 population  Female   \n",
       "8   Heart Disease Mortality       531.5  per 100,000 population  Female   \n",
       "11  Heart Disease Mortality       160.8  per 100,000 population    Male   \n",
       "12  Heart Disease Mortality       194.2  per 100,000 population    Male   \n",
       "47  Heart Disease Mortality       295.5  per 100,000 population    Male   \n",
       "\n",
       "                             Ethnicity  \n",
       "4   American Indian and Alaskan Native  \n",
       "8   American Indian and Alaskan Native  \n",
       "11  American Indian and Alaskan Native  \n",
       "12  American Indian and Alaskan Native  \n",
       "47  American Indian and Alaskan Native  "
      ]
     },
     "execution_count": 54,
     "metadata": {},
     "output_type": "execute_result"
    }
   ],
   "source": [
    "# Select american indians & alaskan native from Ethnicity\n",
    "\n",
    "df1_new_Ind_Alas =df1_new.loc[df1_new['Ethnicity']=='American Indian and Alaskan Native']\n",
    "df1_new_Ind_Alas.head()"
   ]
  },
  {
   "cell_type": "code",
   "execution_count": 55,
   "metadata": {},
   "outputs": [
    {
     "data": {
      "text/html": [
       "<div>\n",
       "<style scoped>\n",
       "    .dataframe tbody tr th:only-of-type {\n",
       "        vertical-align: middle;\n",
       "    }\n",
       "\n",
       "    .dataframe tbody tr th {\n",
       "        vertical-align: top;\n",
       "    }\n",
       "\n",
       "    .dataframe thead th {\n",
       "        text-align: right;\n",
       "    }\n",
       "</style>\n",
       "<table border=\"1\" class=\"dataframe\">\n",
       "  <thead>\n",
       "    <tr style=\"text-align: right;\">\n",
       "      <th></th>\n",
       "      <th>Year</th>\n",
       "      <th>State</th>\n",
       "      <th>County</th>\n",
       "      <th>Class</th>\n",
       "      <th>Topic</th>\n",
       "      <th>Data_Value</th>\n",
       "      <th>Data_Value_Unit</th>\n",
       "      <th>Gender</th>\n",
       "      <th>Ethnicity</th>\n",
       "    </tr>\n",
       "  </thead>\n",
       "  <tbody>\n",
       "    <tr>\n",
       "      <th>1</th>\n",
       "      <td>2016</td>\n",
       "      <td>CA</td>\n",
       "      <td>Alameda County</td>\n",
       "      <td>Cardiovascular Diseases</td>\n",
       "      <td>Heart Disease Mortality</td>\n",
       "      <td>175.0</td>\n",
       "      <td>per 100,000 population</td>\n",
       "      <td>Male</td>\n",
       "      <td>Asian and Pacific Islander</td>\n",
       "    </tr>\n",
       "    <tr>\n",
       "      <th>2</th>\n",
       "      <td>2016</td>\n",
       "      <td>FL</td>\n",
       "      <td>Volusia County</td>\n",
       "      <td>Cardiovascular Diseases</td>\n",
       "      <td>Heart Disease Mortality</td>\n",
       "      <td>186.0</td>\n",
       "      <td>per 100,000 population</td>\n",
       "      <td>Male</td>\n",
       "      <td>Asian and Pacific Islander</td>\n",
       "    </tr>\n",
       "    <tr>\n",
       "      <th>54</th>\n",
       "      <td>2016</td>\n",
       "      <td>GA</td>\n",
       "      <td>Dawson County</td>\n",
       "      <td>Cardiovascular Diseases</td>\n",
       "      <td>Heart Disease Mortality</td>\n",
       "      <td>139.4</td>\n",
       "      <td>per 100,000 population</td>\n",
       "      <td>Overall</td>\n",
       "      <td>Asian and Pacific Islander</td>\n",
       "    </tr>\n",
       "    <tr>\n",
       "      <th>62</th>\n",
       "      <td>2016</td>\n",
       "      <td>CA</td>\n",
       "      <td>San Diego County</td>\n",
       "      <td>Cardiovascular Diseases</td>\n",
       "      <td>Heart Disease Mortality</td>\n",
       "      <td>166.7</td>\n",
       "      <td>per 100,000 population</td>\n",
       "      <td>Overall</td>\n",
       "      <td>Asian and Pacific Islander</td>\n",
       "    </tr>\n",
       "    <tr>\n",
       "      <th>68</th>\n",
       "      <td>2016</td>\n",
       "      <td>CA</td>\n",
       "      <td>Stanislaus County</td>\n",
       "      <td>Cardiovascular Diseases</td>\n",
       "      <td>Heart Disease Mortality</td>\n",
       "      <td>215.5</td>\n",
       "      <td>per 100,000 population</td>\n",
       "      <td>Overall</td>\n",
       "      <td>Asian and Pacific Islander</td>\n",
       "    </tr>\n",
       "  </tbody>\n",
       "</table>\n",
       "</div>"
      ],
      "text/plain": [
       "    Year State             County                    Class  \\\n",
       "1   2016    CA     Alameda County  Cardiovascular Diseases   \n",
       "2   2016    FL     Volusia County  Cardiovascular Diseases   \n",
       "54  2016    GA      Dawson County  Cardiovascular Diseases   \n",
       "62  2016    CA   San Diego County  Cardiovascular Diseases   \n",
       "68  2016    CA  Stanislaus County  Cardiovascular Diseases   \n",
       "\n",
       "                      Topic  Data_Value         Data_Value_Unit   Gender  \\\n",
       "1   Heart Disease Mortality       175.0  per 100,000 population     Male   \n",
       "2   Heart Disease Mortality       186.0  per 100,000 population     Male   \n",
       "54  Heart Disease Mortality       139.4  per 100,000 population  Overall   \n",
       "62  Heart Disease Mortality       166.7  per 100,000 population  Overall   \n",
       "68  Heart Disease Mortality       215.5  per 100,000 population  Overall   \n",
       "\n",
       "                     Ethnicity  \n",
       "1   Asian and Pacific Islander  \n",
       "2   Asian and Pacific Islander  \n",
       "54  Asian and Pacific Islander  \n",
       "62  Asian and Pacific Islander  \n",
       "68  Asian and Pacific Islander  "
      ]
     },
     "execution_count": 55,
     "metadata": {},
     "output_type": "execute_result"
    }
   ],
   "source": [
    "# Select Asian from Ethnicity\n",
    "\n",
    "df1_new_Asian =df1_new.loc[df1_new['Ethnicity']=='Asian and Pacific Islander']\n",
    "df1_new_Asian.head()"
   ]
  },
  {
   "cell_type": "code",
   "execution_count": 56,
   "metadata": {},
   "outputs": [
    {
     "data": {
      "text/html": [
       "<div>\n",
       "<style scoped>\n",
       "    .dataframe tbody tr th:only-of-type {\n",
       "        vertical-align: middle;\n",
       "    }\n",
       "\n",
       "    .dataframe tbody tr th {\n",
       "        vertical-align: top;\n",
       "    }\n",
       "\n",
       "    .dataframe thead th {\n",
       "        text-align: right;\n",
       "    }\n",
       "</style>\n",
       "<table border=\"1\" class=\"dataframe\">\n",
       "  <thead>\n",
       "    <tr style=\"text-align: right;\">\n",
       "      <th></th>\n",
       "      <th>Year</th>\n",
       "      <th>State</th>\n",
       "      <th>County</th>\n",
       "      <th>Class</th>\n",
       "      <th>Topic</th>\n",
       "      <th>Data_Value</th>\n",
       "      <th>Data_Value_Unit</th>\n",
       "      <th>Gender</th>\n",
       "      <th>Ethnicity</th>\n",
       "    </tr>\n",
       "  </thead>\n",
       "  <tbody>\n",
       "    <tr>\n",
       "      <th>0</th>\n",
       "      <td>2016</td>\n",
       "      <td>AZ</td>\n",
       "      <td>Santa Cruz County</td>\n",
       "      <td>Cardiovascular Diseases</td>\n",
       "      <td>Heart Disease Mortality</td>\n",
       "      <td>178.8</td>\n",
       "      <td>per 100,000 population</td>\n",
       "      <td>Female</td>\n",
       "      <td>Hispanic</td>\n",
       "    </tr>\n",
       "    <tr>\n",
       "      <th>5</th>\n",
       "      <td>2016</td>\n",
       "      <td>IL</td>\n",
       "      <td>Illinois</td>\n",
       "      <td>Cardiovascular Diseases</td>\n",
       "      <td>Heart Disease Mortality</td>\n",
       "      <td>204.9</td>\n",
       "      <td>per 100,000 population</td>\n",
       "      <td>Male</td>\n",
       "      <td>Hispanic</td>\n",
       "    </tr>\n",
       "    <tr>\n",
       "      <th>10</th>\n",
       "      <td>2016</td>\n",
       "      <td>NY</td>\n",
       "      <td>Wayne County</td>\n",
       "      <td>Cardiovascular Diseases</td>\n",
       "      <td>Heart Disease Mortality</td>\n",
       "      <td>230.2</td>\n",
       "      <td>per 100,000 population</td>\n",
       "      <td>Male</td>\n",
       "      <td>Hispanic</td>\n",
       "    </tr>\n",
       "    <tr>\n",
       "      <th>13</th>\n",
       "      <td>2016</td>\n",
       "      <td>US</td>\n",
       "      <td>United States</td>\n",
       "      <td>Cardiovascular Diseases</td>\n",
       "      <td>Heart Disease Mortality</td>\n",
       "      <td>179.7</td>\n",
       "      <td>per 100,000 population</td>\n",
       "      <td>Female</td>\n",
       "      <td>Hispanic</td>\n",
       "    </tr>\n",
       "    <tr>\n",
       "      <th>65</th>\n",
       "      <td>2016</td>\n",
       "      <td>GA</td>\n",
       "      <td>Banks County</td>\n",
       "      <td>Cardiovascular Diseases</td>\n",
       "      <td>Heart Disease Mortality</td>\n",
       "      <td>92.7</td>\n",
       "      <td>per 100,000 population</td>\n",
       "      <td>Overall</td>\n",
       "      <td>Hispanic</td>\n",
       "    </tr>\n",
       "  </tbody>\n",
       "</table>\n",
       "</div>"
      ],
      "text/plain": [
       "    Year State             County                    Class  \\\n",
       "0   2016    AZ  Santa Cruz County  Cardiovascular Diseases   \n",
       "5   2016    IL           Illinois  Cardiovascular Diseases   \n",
       "10  2016    NY       Wayne County  Cardiovascular Diseases   \n",
       "13  2016    US      United States  Cardiovascular Diseases   \n",
       "65  2016    GA       Banks County  Cardiovascular Diseases   \n",
       "\n",
       "                      Topic  Data_Value         Data_Value_Unit   Gender  \\\n",
       "0   Heart Disease Mortality       178.8  per 100,000 population   Female   \n",
       "5   Heart Disease Mortality       204.9  per 100,000 population     Male   \n",
       "10  Heart Disease Mortality       230.2  per 100,000 population     Male   \n",
       "13  Heart Disease Mortality       179.7  per 100,000 population   Female   \n",
       "65  Heart Disease Mortality        92.7  per 100,000 population  Overall   \n",
       "\n",
       "   Ethnicity  \n",
       "0   Hispanic  \n",
       "5   Hispanic  \n",
       "10  Hispanic  \n",
       "13  Hispanic  \n",
       "65  Hispanic  "
      ]
     },
     "execution_count": 56,
     "metadata": {},
     "output_type": "execute_result"
    }
   ],
   "source": [
    "# Select Hispanic from Ethnicity\n",
    "\n",
    "df1_new_Hispanic =df1_new.loc[df1_new['Ethnicity']=='Hispanic']\n",
    "df1_new_Hispanic.head()"
   ]
  },
  {
   "cell_type": "code",
   "execution_count": 57,
   "metadata": {},
   "outputs": [
    {
     "data": {
      "text/html": [
       "<div>\n",
       "<style scoped>\n",
       "    .dataframe tbody tr th:only-of-type {\n",
       "        vertical-align: middle;\n",
       "    }\n",
       "\n",
       "    .dataframe tbody tr th {\n",
       "        vertical-align: top;\n",
       "    }\n",
       "\n",
       "    .dataframe thead th {\n",
       "        text-align: right;\n",
       "    }\n",
       "</style>\n",
       "<table border=\"1\" class=\"dataframe\">\n",
       "  <thead>\n",
       "    <tr style=\"text-align: right;\">\n",
       "      <th></th>\n",
       "      <th>Year</th>\n",
       "      <th>State</th>\n",
       "      <th>County</th>\n",
       "      <th>Class</th>\n",
       "      <th>Topic</th>\n",
       "      <th>Data_Value</th>\n",
       "      <th>Data_Value_Unit</th>\n",
       "      <th>Gender</th>\n",
       "      <th>Ethnicity</th>\n",
       "    </tr>\n",
       "  </thead>\n",
       "  <tbody>\n",
       "    <tr>\n",
       "      <th>7</th>\n",
       "      <td>2016</td>\n",
       "      <td>LA</td>\n",
       "      <td>Louisiana</td>\n",
       "      <td>Cardiovascular Diseases</td>\n",
       "      <td>Heart Disease Mortality</td>\n",
       "      <td>505.0</td>\n",
       "      <td>per 100,000 population</td>\n",
       "      <td>Male</td>\n",
       "      <td>White</td>\n",
       "    </tr>\n",
       "    <tr>\n",
       "      <th>14</th>\n",
       "      <td>2016</td>\n",
       "      <td>VA</td>\n",
       "      <td>Virginia</td>\n",
       "      <td>Cardiovascular Diseases</td>\n",
       "      <td>Heart Disease Mortality</td>\n",
       "      <td>376.3</td>\n",
       "      <td>per 100,000 population</td>\n",
       "      <td>Male</td>\n",
       "      <td>White</td>\n",
       "    </tr>\n",
       "    <tr>\n",
       "      <th>18</th>\n",
       "      <td>2016</td>\n",
       "      <td>AR</td>\n",
       "      <td>Fulton County</td>\n",
       "      <td>Cardiovascular Diseases</td>\n",
       "      <td>Heart Disease Mortality</td>\n",
       "      <td>305.5</td>\n",
       "      <td>per 100,000 population</td>\n",
       "      <td>Female</td>\n",
       "      <td>White</td>\n",
       "    </tr>\n",
       "    <tr>\n",
       "      <th>24</th>\n",
       "      <td>2016</td>\n",
       "      <td>AL</td>\n",
       "      <td>Conecuh County</td>\n",
       "      <td>Cardiovascular Diseases</td>\n",
       "      <td>Heart Disease Mortality</td>\n",
       "      <td>369.5</td>\n",
       "      <td>per 100,000 population</td>\n",
       "      <td>Female</td>\n",
       "      <td>White</td>\n",
       "    </tr>\n",
       "    <tr>\n",
       "      <th>33</th>\n",
       "      <td>2016</td>\n",
       "      <td>IN</td>\n",
       "      <td>Hendricks County</td>\n",
       "      <td>Cardiovascular Diseases</td>\n",
       "      <td>Heart Disease Mortality</td>\n",
       "      <td>318.6</td>\n",
       "      <td>per 100,000 population</td>\n",
       "      <td>Overall</td>\n",
       "      <td>White</td>\n",
       "    </tr>\n",
       "  </tbody>\n",
       "</table>\n",
       "</div>"
      ],
      "text/plain": [
       "    Year State            County                    Class  \\\n",
       "7   2016    LA         Louisiana  Cardiovascular Diseases   \n",
       "14  2016    VA          Virginia  Cardiovascular Diseases   \n",
       "18  2016    AR     Fulton County  Cardiovascular Diseases   \n",
       "24  2016    AL    Conecuh County  Cardiovascular Diseases   \n",
       "33  2016    IN  Hendricks County  Cardiovascular Diseases   \n",
       "\n",
       "                      Topic  Data_Value         Data_Value_Unit   Gender  \\\n",
       "7   Heart Disease Mortality       505.0  per 100,000 population     Male   \n",
       "14  Heart Disease Mortality       376.3  per 100,000 population     Male   \n",
       "18  Heart Disease Mortality       305.5  per 100,000 population   Female   \n",
       "24  Heart Disease Mortality       369.5  per 100,000 population   Female   \n",
       "33  Heart Disease Mortality       318.6  per 100,000 population  Overall   \n",
       "\n",
       "   Ethnicity  \n",
       "7      White  \n",
       "14     White  \n",
       "18     White  \n",
       "24     White  \n",
       "33     White  "
      ]
     },
     "execution_count": 57,
     "metadata": {},
     "output_type": "execute_result"
    }
   ],
   "source": [
    "# Select White from Ethnicity\n",
    "\n",
    "df1_new_White =df1_new.loc[df1_new['Ethnicity']=='White']\n",
    "df1_new_White.head()"
   ]
  },
  {
   "cell_type": "code",
   "execution_count": 58,
   "metadata": {},
   "outputs": [
    {
     "data": {
      "text/html": [
       "<div>\n",
       "<style scoped>\n",
       "    .dataframe tbody tr th:only-of-type {\n",
       "        vertical-align: middle;\n",
       "    }\n",
       "\n",
       "    .dataframe tbody tr th {\n",
       "        vertical-align: top;\n",
       "    }\n",
       "\n",
       "    .dataframe thead th {\n",
       "        text-align: right;\n",
       "    }\n",
       "</style>\n",
       "<table border=\"1\" class=\"dataframe\">\n",
       "  <thead>\n",
       "    <tr style=\"text-align: right;\">\n",
       "      <th></th>\n",
       "      <th>Year</th>\n",
       "      <th>State</th>\n",
       "      <th>County</th>\n",
       "      <th>Class</th>\n",
       "      <th>Topic</th>\n",
       "      <th>Data_Value</th>\n",
       "      <th>Data_Value_Unit</th>\n",
       "      <th>Gender</th>\n",
       "      <th>Ethnicity</th>\n",
       "    </tr>\n",
       "  </thead>\n",
       "  <tbody>\n",
       "    <tr>\n",
       "      <th>3</th>\n",
       "      <td>2016</td>\n",
       "      <td>ID</td>\n",
       "      <td>Idaho</td>\n",
       "      <td>Cardiovascular Diseases</td>\n",
       "      <td>Heart Disease Mortality</td>\n",
       "      <td>387.1</td>\n",
       "      <td>per 100,000 population</td>\n",
       "      <td>Male</td>\n",
       "      <td>Overall</td>\n",
       "    </tr>\n",
       "    <tr>\n",
       "      <th>6</th>\n",
       "      <td>2016</td>\n",
       "      <td>KY</td>\n",
       "      <td>Kentucky</td>\n",
       "      <td>Cardiovascular Diseases</td>\n",
       "      <td>Heart Disease Mortality</td>\n",
       "      <td>487.0</td>\n",
       "      <td>per 100,000 population</td>\n",
       "      <td>Male</td>\n",
       "      <td>Overall</td>\n",
       "    </tr>\n",
       "    <tr>\n",
       "      <th>20</th>\n",
       "      <td>2016</td>\n",
       "      <td>AL</td>\n",
       "      <td>Lauderdale County</td>\n",
       "      <td>Cardiovascular Diseases</td>\n",
       "      <td>Heart Disease Mortality</td>\n",
       "      <td>515.1</td>\n",
       "      <td>per 100,000 population</td>\n",
       "      <td>Male</td>\n",
       "      <td>Overall</td>\n",
       "    </tr>\n",
       "    <tr>\n",
       "      <th>22</th>\n",
       "      <td>2016</td>\n",
       "      <td>KS</td>\n",
       "      <td>Cowley County</td>\n",
       "      <td>Cardiovascular Diseases</td>\n",
       "      <td>Heart Disease Mortality</td>\n",
       "      <td>450.9</td>\n",
       "      <td>per 100,000 population</td>\n",
       "      <td>Male</td>\n",
       "      <td>Overall</td>\n",
       "    </tr>\n",
       "    <tr>\n",
       "      <th>23</th>\n",
       "      <td>2016</td>\n",
       "      <td>KS</td>\n",
       "      <td>Harvey County</td>\n",
       "      <td>Cardiovascular Diseases</td>\n",
       "      <td>Heart Disease Mortality</td>\n",
       "      <td>311.8</td>\n",
       "      <td>per 100,000 population</td>\n",
       "      <td>Overall</td>\n",
       "      <td>Overall</td>\n",
       "    </tr>\n",
       "  </tbody>\n",
       "</table>\n",
       "</div>"
      ],
      "text/plain": [
       "    Year State             County                    Class  \\\n",
       "3   2016    ID              Idaho  Cardiovascular Diseases   \n",
       "6   2016    KY           Kentucky  Cardiovascular Diseases   \n",
       "20  2016    AL  Lauderdale County  Cardiovascular Diseases   \n",
       "22  2016    KS      Cowley County  Cardiovascular Diseases   \n",
       "23  2016    KS      Harvey County  Cardiovascular Diseases   \n",
       "\n",
       "                      Topic  Data_Value         Data_Value_Unit   Gender  \\\n",
       "3   Heart Disease Mortality       387.1  per 100,000 population     Male   \n",
       "6   Heart Disease Mortality       487.0  per 100,000 population     Male   \n",
       "20  Heart Disease Mortality       515.1  per 100,000 population     Male   \n",
       "22  Heart Disease Mortality       450.9  per 100,000 population     Male   \n",
       "23  Heart Disease Mortality       311.8  per 100,000 population  Overall   \n",
       "\n",
       "   Ethnicity  \n",
       "3    Overall  \n",
       "6    Overall  \n",
       "20   Overall  \n",
       "22   Overall  \n",
       "23   Overall  "
      ]
     },
     "execution_count": 58,
     "metadata": {},
     "output_type": "execute_result"
    }
   ],
   "source": [
    "# Select Overallfrom Ethnicity\n",
    "\n",
    "df1_new_Overall=df1_new.loc[df1_new['Ethnicity']=='Overall']\n",
    "df1_new_Overall.head()"
   ]
  },
  {
   "cell_type": "code",
   "execution_count": 59,
   "metadata": {},
   "outputs": [],
   "source": [
    "## Data_value for each Ethnicity"
   ]
  },
  {
   "cell_type": "code",
   "execution_count": 60,
   "metadata": {},
   "outputs": [
    {
     "name": "stdout",
     "output_type": "stream",
     "text": [
      "Total black heart disease mortality: 2406856.9\n"
     ]
    }
   ],
   "source": [
    "#Black\n",
    "\n",
    "Heart_Disease_total_Black = df1_new_Black['Data_Value'].sum()\n",
    "print(\"Total black heart disease mortality:\", Heart_Disease_total_Black)"
   ]
  },
  {
   "cell_type": "code",
   "execution_count": 61,
   "metadata": {},
   "outputs": [
    {
     "name": "stdout",
     "output_type": "stream",
     "text": [
      "Total white heart disease mortality: 3491689.2\n"
     ]
    }
   ],
   "source": [
    "# White\n",
    "\n",
    "Heart_Disease_total_White = df1_new_White['Data_Value'].sum()\n",
    "print(\"Total white heart disease mortality:\",Heart_Disease_total_White)"
   ]
  },
  {
   "cell_type": "code",
   "execution_count": 62,
   "metadata": {},
   "outputs": [
    {
     "name": "stdout",
     "output_type": "stream",
     "text": [
      "Total hispanic heart disease mortality: 761058.2\n"
     ]
    }
   ],
   "source": [
    "# Hispanic\n",
    "\n",
    "Heart_Disease_total_Hispanic = df1_new_Hispanic['Data_Value'].sum()\n",
    "print(\"Total hispanic heart disease mortality:\", round(Heart_Disease_total_Hispanic,2))"
   ]
  },
  {
   "cell_type": "code",
   "execution_count": 63,
   "metadata": {},
   "outputs": [
    {
     "name": "stdout",
     "output_type": "stream",
     "text": [
      "Total asian heart disease mortality: 352279.8\n"
     ]
    }
   ],
   "source": [
    "# Asian\n",
    "\n",
    "Heart_Disease_total_Asian = df1_new_Asian['Data_Value'].sum()\n",
    "print(\"Total asian heart disease mortality:\",Heart_Disease_total_Asian)"
   ]
  },
  {
   "cell_type": "code",
   "execution_count": 64,
   "metadata": {},
   "outputs": [
    {
     "name": "stdout",
     "output_type": "stream",
     "text": [
      "Total Indian, Alaskan heart disease mortality: 566939.3\n"
     ]
    }
   ],
   "source": [
    "# American indians & alaskan native\n",
    "\n",
    "Heart_Disease_total_Ind_Alas = df1_new_Ind_Alas['Data_Value'].sum()\n",
    "print(\"Total Indian, Alaskan heart disease mortality:\",round(Heart_Disease_total_Ind_Alas,2))"
   ]
  },
  {
   "cell_type": "code",
   "execution_count": 65,
   "metadata": {},
   "outputs": [],
   "source": [
    "# Create new dataframes to compare heart disease mortality by ethnicity"
   ]
  },
  {
   "cell_type": "code",
   "execution_count": 66,
   "metadata": {},
   "outputs": [],
   "source": [
    "# Black and white\n",
    "\n",
    "Heart_Black_White = [['Black', Heart_Disease_total_Black ], ['White', Heart_Disease_total_White]]\n",
    "\n",
    "df1_Hypo3_BW = pd.DataFrame(Heart_Black_White, columns = ['Ethnicity', 'Heart_Mortality'])"
   ]
  },
  {
   "cell_type": "code",
   "execution_count": 67,
   "metadata": {},
   "outputs": [
    {
     "data": {
      "text/plain": [
       "Text(0, 0.5, 'Total_Heart_Mortality')"
      ]
     },
     "execution_count": 67,
     "metadata": {},
     "output_type": "execute_result"
    },
    {
     "data": {
      "image/png": "[encoded data removed]",
      "text/plain": [
       "<Figure size 504x720 with 1 Axes>"
      ]
     },
     "metadata": {
      "needs_background": "light"
     },
     "output_type": "display_data"
    }
   ],
   "source": [
    "df1_Hypo3_BW.plot(kind='bar',x='Ethnicity', y='Heart_Mortality', figsize=(7,10))\n",
    "plt.xlabel('Ethnicity', fontweight='bold', color = 'green', fontsize='15')\n",
    "plt.ylabel('Total_Heart_Mortality', fontweight='bold', color = 'green', fontsize='15')"
   ]
  },
  {
   "cell_type": "code",
   "execution_count": 68,
   "metadata": {},
   "outputs": [
    {
     "name": "stdout",
     "output_type": "stream",
     "text": [
      "-18.39 %\n"
     ]
    }
   ],
   "source": [
    "# difference in rate of mortality due to heart disease between black and white Using the full numbers\n",
    "\n",
    "total_heart_BW = Heart_Disease_total_Black + Heart_Disease_total_White\n",
    "percentage_Black = (Heart_Disease_total_Black/total_heart_BW)*100\n",
    "percentage_White = (Heart_Disease_total_White/total_heart_BW)*100\n",
    "print(round((percentage_Black - percentage_White),2),'%')"
   ]
  },
  {
   "cell_type": "code",
   "execution_count": 69,
   "metadata": {},
   "outputs": [],
   "source": [
    "#Black and Hispanic\n",
    "\n",
    "Heart_Black_Hispanic = [['Black', Heart_Disease_total_Black ], ['Hispanic', Heart_Disease_total_Hispanic]]\n",
    "\n",
    "df1_Hypo3_BH = pd.DataFrame(Heart_Black_Hispanic, columns = ['Ethnicity', 'Heart_Mortality'])"
   ]
  },
  {
   "cell_type": "code",
   "execution_count": 70,
   "metadata": {},
   "outputs": [
    {
     "data": {
      "text/plain": [
       "Text(0, 0.5, 'Total_Heart_Mortality')"
      ]
     },
     "execution_count": 70,
     "metadata": {},
     "output_type": "execute_result"
    },
    {
     "data": {
      "image/png": "[encoded data removed]",
      "text/plain": [
       "<Figure size 504x720 with 1 Axes>"
      ]
     },
     "metadata": {
      "needs_background": "light"
     },
     "output_type": "display_data"
    }
   ],
   "source": [
    "df1_Hypo3_BH.plot(kind='bar',x='Ethnicity', y='Heart_Mortality', figsize=(7,10))\n",
    "plt.xlabel('Ethnicity', fontweight='bold', color = 'green', fontsize='15')\n",
    "plt.ylabel('Total_Heart_Mortality', fontweight='bold', color = 'green', fontsize='15')"
   ]
  },
  {
   "cell_type": "code",
   "execution_count": 71,
   "metadata": {},
   "outputs": [
    {
     "name": "stdout",
     "output_type": "stream",
     "text": [
      "51.95 %\n"
     ]
    }
   ],
   "source": [
    "# difference in rate of mortality due to heart disease between black and hispanic using the full numbers\n",
    "\n",
    "total_heart_BH = Heart_Disease_total_Black + Heart_Disease_total_Hispanic\n",
    "percentage_Black = (Heart_Disease_total_Black/total_heart_BH)*100\n",
    "percentage_Hispanic = (Heart_Disease_total_Hispanic/total_heart_BH)*100\n",
    "print(round((percentage_Black - percentage_Hispanic),2),'%')"
   ]
  },
  {
   "cell_type": "code",
   "execution_count": 72,
   "metadata": {},
   "outputs": [],
   "source": [
    "#Black and Asian\n",
    "\n",
    "Heart_Black_Asian = [['Black', Heart_Disease_total_Black ], ['Asian', Heart_Disease_total_Asian]]\n",
    "\n",
    "df1_Hypo3_BA = pd.DataFrame(Heart_Black_Asian, columns = ['Ethnicity', 'Heart_Mortality'])"
   ]
  },
  {
   "cell_type": "code",
   "execution_count": 73,
   "metadata": {},
   "outputs": [
    {
     "data": {
      "text/plain": [
       "Text(0, 0.5, 'Total_Heart_Mortality')"
      ]
     },
     "execution_count": 73,
     "metadata": {},
     "output_type": "execute_result"
    },
    {
     "data": {
      "image/png": "[encoded data removed]",
      "text/plain": [
       "<Figure size 504x720 with 1 Axes>"
      ]
     },
     "metadata": {
      "needs_background": "light"
     },
     "output_type": "display_data"
    }
   ],
   "source": [
    "df1_Hypo3_BA.plot(kind='bar',x='Ethnicity', y='Heart_Mortality', figsize=(7,10))\n",
    "plt.xlabel('Ethnicity', fontweight='bold', color = 'green', fontsize='15')\n",
    "plt.ylabel('Total_Heart_Mortality', fontweight='bold', color = 'green', fontsize='15')"
   ]
  },
  {
   "cell_type": "code",
   "execution_count": 74,
   "metadata": {},
   "outputs": [
    {
     "name": "stdout",
     "output_type": "stream",
     "text": [
      "74.46 %\n"
     ]
    }
   ],
   "source": [
    "# difference in rate of mortality due to heart disease between black and Asian using the full numbers\n",
    "\n",
    "total_heart_BA = Heart_Disease_total_Black + Heart_Disease_total_Asian\n",
    "percentage_Black = (Heart_Disease_total_Black/total_heart_BA)*100\n",
    "percentage_Asian = (Heart_Disease_total_Asian/total_heart_BA)*100\n",
    "print(round((percentage_Black - percentage_Asian),2),'%')"
   ]
  },
  {
   "cell_type": "code",
   "execution_count": 75,
   "metadata": {},
   "outputs": [],
   "source": [
    "#Black and Indian, Alaskan\n",
    "\n",
    "Heart_Black_IndianAlaskan = [['Black', Heart_Disease_total_Black ], ['Indian_Alaskan', Heart_Disease_total_Ind_Alas]]\n",
    "\n",
    "df1_Hypo3_BIA = pd.DataFrame(Heart_Black_IndianAlaskan, columns = ['Ethnicity', 'Heart_Mortality'])"
   ]
  },
  {
   "cell_type": "code",
   "execution_count": 76,
   "metadata": {},
   "outputs": [
    {
     "data": {
      "text/plain": [
       "Text(0, 0.5, 'Total_Heart_Mortality')"
      ]
     },
     "execution_count": 76,
     "metadata": {},
     "output_type": "execute_result"
    },
    {
     "data": {
      "image/png": "[encoded data removed]",
      "text/plain": [
       "<Figure size 504x720 with 1 Axes>"
      ]
     },
     "metadata": {
      "needs_background": "light"
     },
     "output_type": "display_data"
    }
   ],
   "source": [
    "df1_Hypo3_BIA.plot(kind='bar',x='Ethnicity', y='Heart_Mortality', figsize=(7,10))\n",
    "plt.xlabel('Ethnicity', fontweight='bold', color = 'green', fontsize='15')\n",
    "plt.ylabel('Total_Heart_Mortality', fontweight='bold', color = 'green', fontsize='15')"
   ]
  },
  {
   "cell_type": "code",
   "execution_count": 77,
   "metadata": {},
   "outputs": [
    {
     "name": "stdout",
     "output_type": "stream",
     "text": [
      "61.87 %\n"
     ]
    }
   ],
   "source": [
    "# difference in rate of mortality due to heart disease between black and american indians & alaskan native using the full numbers\n",
    "\n",
    "total_heart_BIA = Heart_Disease_total_Black + Heart_Disease_total_Ind_Alas\n",
    "percentage_Black = (Heart_Disease_total_Black/total_heart_BIA)*100\n",
    "percentage_IndianAlaskan = (Heart_Disease_total_Ind_Alas/total_heart_BIA)*100\n",
    "print(round((percentage_Black - percentage_IndianAlaskan),2),'%')"
   ]
  },
  {
   "cell_type": "code",
   "execution_count": 78,
   "metadata": {},
   "outputs": [],
   "source": [
    "# Black verso all ethnicities"
   ]
  },
  {
   "cell_type": "code",
   "execution_count": 79,
   "metadata": {},
   "outputs": [],
   "source": [
    "Sum_ethicity = Heart_Disease_total_White+ Heart_Disease_total_Hispanic+ Heart_Disease_total_Asian+Heart_Disease_total_Ind_Alas"
   ]
  },
  {
   "cell_type": "code",
   "execution_count": 80,
   "metadata": {},
   "outputs": [],
   "source": [
    "Heart_Black_All = [['Black', Heart_Disease_total_Black ], ['Other_ethnicity', Sum_ethicity]]\n",
    "\n",
    "df1_Hypo3_Black_All = pd.DataFrame(Heart_Black_All, columns = ['Ethnicity', 'Heart_Mortality'])"
   ]
  },
  {
   "cell_type": "code",
   "execution_count": 81,
   "metadata": {},
   "outputs": [
    {
     "data": {
      "text/plain": [
       "Text(0, 0.5, 'Total_Heart_Mortality')"
      ]
     },
     "execution_count": 81,
     "metadata": {},
     "output_type": "execute_result"
    },
    {
     "data": {
      "image/png": "[encoded data removed]",
      "text/plain": [
       "<Figure size 504x720 with 1 Axes>"
      ]
     },
     "metadata": {
      "needs_background": "light"
     },
     "output_type": "display_data"
    }
   ],
   "source": [
    "df1_Hypo3_Black_All.plot(kind='bar',x='Ethnicity', y='Heart_Mortality', figsize=(7,10))\n",
    "plt.xlabel('Ethnicity', fontweight='bold', color = 'green', fontsize='15')\n",
    "plt.ylabel('Total_Heart_Mortality', fontweight='bold', color = 'green', fontsize='15')"
   ]
  },
  {
   "cell_type": "code",
   "execution_count": 82,
   "metadata": {},
   "outputs": [
    {
     "name": "stdout",
     "output_type": "stream",
     "text": [
      "-36.48 %\n"
     ]
    }
   ],
   "source": [
    "# difference in rate of mortality due to heart disease between black and all the other etnicities using the full numbers\n",
    "\n",
    "total_heart_Black_All = Heart_Disease_total_Black + Sum_ethicity\n",
    "percentage_Black = (Heart_Disease_total_Black/total_heart_Black_All)*100\n",
    "percentage_All = (Sum_ethicity/total_heart_Black_All)*100\n",
    "print(round((percentage_Black - percentage_All),2),'%')"
   ]
  },
  {
   "cell_type": "code",
   "execution_count": 83,
   "metadata": {},
   "outputs": [],
   "source": [
    "#Graph all the ethnicities side by side \n",
    "\n",
    "Heart_All = [['White', Heart_Disease_total_White],['Black', Heart_Disease_total_Black ],['Hispanic', Heart_Disease_total_Hispanic],['Indian_Alaskan', Heart_Disease_total_Ind_Alas], ['Asian', Heart_Disease_total_Asian]]\n",
    "\n",
    "df1_Hypo3_All = pd.DataFrame(Heart_All, columns = ['Ethnicity', 'Heart_Mortality'])"
   ]
  },
  {
   "cell_type": "code",
   "execution_count": 84,
   "metadata": {
    "scrolled": false
   },
   "outputs": [
    {
     "data": {
      "text/plain": [
       "Text(0, 0.5, 'Total_Heart_Mortality')"
      ]
     },
     "execution_count": 84,
     "metadata": {},
     "output_type": "execute_result"
    },
    {
     "data": {
      "image/png": "[encoded data removed]",
      "text/plain": [
       "<Figure size 1080x720 with 1 Axes>"
      ]
     },
     "metadata": {
      "needs_background": "light"
     },
     "output_type": "display_data"
    }
   ],
   "source": [
    "df1_Hypo3_All.plot(kind='bar',x='Ethnicity', y='Heart_Mortality', figsize=(15,10))\n",
    "plt.xlabel('Ethnicity', fontweight='bold', color = 'green', fontsize='15')\n",
    "plt.ylabel('Total_Heart_Mortality', fontweight='bold', color = 'green', fontsize='15')"
   ]
  },
  {
   "cell_type": "markdown",
   "metadata": {},
   "source": [
    "### Conclusion Hypothesis#3:\n",
    "#### The hypothesis stated that Blacks are 10%-15% more likely to have a heart attack than other ethnicities.\n",
    "#### The Hypothesis was not verified .\n",
    "#### In 2016 We have around 18% more whites victicms of heart disease than blacks. \n",
    "#### About 52% more blacks than hispanics victims of heart disease.\n",
    "#### 74.5% more blacks than asians victims of heart disease.\n",
    "#### 81.87% more blacks than american indians & alaskan native victims of heart disease."
   ]
  },
  {
   "cell_type": "code",
   "execution_count": null,
   "metadata": {},
   "outputs": [],
   "source": []
  }
 ],
 "metadata": {
  "kernelspec": {
   "display_name": "Python 3",
   "language": "python",
   "name": "python3"
  },
  "language_info": {
   "codemirror_mode": {
    "name": "ipython",
    "version": 3
   },
   "file_extension": ".py",
   "mimetype": "text/x-python",
   "name": "python",
   "nbconvert_exporter": "python",
   "pygments_lexer": "ipython3",
   "version": "3.7.3"
  }
 },
 "nbformat": 4,
 "nbformat_minor": 2
}
